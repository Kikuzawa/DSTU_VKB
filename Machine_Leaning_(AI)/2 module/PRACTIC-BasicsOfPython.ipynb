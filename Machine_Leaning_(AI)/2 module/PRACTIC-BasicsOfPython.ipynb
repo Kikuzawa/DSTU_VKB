{
 "cells": [
  {
   "cell_type": "markdown",
   "metadata": {
    "slideshow": {
     "slide_type": "notes"
    }
   },
   "source": [
    "Задание 1.\n",
    "Даны три целых числа. Определите, сколько среди них совпадающих. Функция должна вернуть одно из чисел: 3 (если все совпадают), 2 (если два совпадает) или 0 (если все числа различны)."
   ]
  },
  {
   "cell_type": "code",
   "execution_count": 7,
   "metadata": {
    "ExecuteTime": {
     "end_time": "2024-11-18T18:10:33.890825800Z",
     "start_time": "2024-11-18T18:10:31.548898800Z"
    }
   },
   "outputs": [
    {
     "name": "stdin",
     "output_type": "stream",
     "text": [
      "Введите 3 числа через пробел:  5 3 2\n"
     ]
    },
    {
     "name": "stdout",
     "output_type": "stream",
     "text": [
      "0\n"
     ]
    }
   ],
   "source": [
    "from typing import Iterable\n",
    "\n",
    "def find_occurrences(numbers: Iterable[int]):\n",
    "    # Возвращаем значение словаря в зависимости от количества уникальных чисел\n",
    "    return {1: 3, 2: 2, 3: 0}[len(set(numbers))]\n",
    "\n",
    "# Получаем ввод пользователя\n",
    "user_input = input(\"Введите 3 числа через пробел: \").strip().split()\n",
    "\n",
    "try:\n",
    "    # Преобразуем строку в список целых чисел и находим количество уникальных чисел\n",
    "    result = find_occurrences(map(int, user_input))\n",
    "    \n",
    "    # Выводим результат\n",
    "    print(result)\n",
    "\n",
    "except Exception as e:\n",
    "    # Обрабатываем возможные ошибки\n",
    "    print(f\"Произошла ошибка: {e}\")\n",
    "\n",
    "# Удаляем переменную user_input после использования\n",
    "del user_input"
   ]
  },
  {
   "cell_type": "markdown",
   "metadata": {},
   "source": [
    "Задание 2. По-данному натуральному n <= 9 выведите лесенку из n ступенек, i-я ступенька состоит из чисел от 1 до i без пробелов."
   ]
  },
  {
   "cell_type": "code",
   "execution_count": 8,
   "metadata": {
    "ExecuteTime": {
     "end_time": "2024-11-18T18:11:21.824726600Z",
     "start_time": "2024-11-18T18:11:21.185795200Z"
    }
   },
   "outputs": [
    {
     "name": "stdin",
     "output_type": "stream",
     "text": [
      "Введите положительное число - количество строк лестницы:  8\n"
     ]
    },
    {
     "name": "stdout",
     "output_type": "stream",
     "text": [
      "1\n",
      "12\n",
      "123\n",
      "1234\n",
      "12345\n",
      "123456\n",
      "1234567\n",
      "12345678\n"
     ]
    }
   ],
   "source": [
    "def ladder(number: int):\n",
    "    \"\"\"\n",
    "    Генерирует лестницу чисел в виде строки.\n",
    "    \n",
    "    Args:\n",
    "        number (int): Количество строк лестницы.\n",
    "    \n",
    "    Returns:\n",
    "        str: Строка с числовой лестницей.\n",
    "    \"\"\"\n",
    "    result: list[str] = []\n",
    "\n",
    "    # Создаем каждую строку лестницы\n",
    "    for row in range(1, number + 1):\n",
    "        buffer = \"\"\n",
    "        # Заполняем строку числами от 1 до текущего числа строки\n",
    "        for current_number in range(1, row + 1):\n",
    "            buffer += str(current_number)\n",
    "\n",
    "        if buffer:\n",
    "            # Добавляем строку в результат только если она не пуста\n",
    "            result.append(buffer)\n",
    "\n",
    "    return \"\\n\".join(result)\n",
    "\n",
    "# Получаем ввод пользователя\n",
    "user_input = input(\"Введите положительное число - количество строк лестницы: \").strip()\n",
    "\n",
    "try:\n",
    "    # Проверяем, что введено положительное число\n",
    "    if int(user_input) <= 9:\n",
    "        print(ladder(int(user_input)))\n",
    "    else:\n",
    "        print(\"Неправильный ввод!\")\n",
    "except ValueError:\n",
    "    print(\"Пожалуйста, введите целое число.\")\n",
    "\n",
    "# Удаляем переменную user_input после использования\n",
    "del user_input"
   ]
  },
  {
   "cell_type": "markdown",
   "metadata": {},
   "source": [
    "Задание 3. Дополните код из предыдущего задания, чтобы теперь получилась пирамида.\n",
    "То есть каждая ступень состоит из чисел от 1 до i и обратно."
   ]
  },
  {
   "cell_type": "code",
   "execution_count": 9,
   "metadata": {
    "ExecuteTime": {
     "end_time": "2024-11-18T18:11:16.201629Z",
     "start_time": "2024-11-18T18:11:15.006763800Z"
    }
   },
   "outputs": [
    {
     "name": "stdin",
     "output_type": "stream",
     "text": [
      "Введите положительное натуральное число - количество строк пирамиды:  9\n"
     ]
    },
    {
     "name": "stdout",
     "output_type": "stream",
     "text": [
      "                1\n",
      "              1 2 1\n",
      "            1 2 3 2 1\n",
      "          1 2 3 4 3 2 1\n",
      "        1 2 3 4 5 4 3 2 1\n",
      "      1 2 3 4 5 6 5 4 3 2 1\n",
      "    1 2 3 4 5 6 7 6 5 4 3 2 1\n",
      "  1 2 3 4 5 6 7 8 7 6 5 4 3 2 1\n",
      "1 2 3 4 5 6 7 8 9 8 7 6 5 4 3 2 1\n"
     ]
    }
   ],
   "source": [
    "def ladder(size):\n",
    "    \"\"\"\n",
    "    Генерирует числовую пирамиду заданного размера.\n",
    "    \n",
    "    Args:\n",
    "        size (int): Количество строк пирамиды.\n",
    "    \n",
    "    Returns:\n",
    "        str: Строка с числовой пирамидой.\n",
    "    \"\"\"\n",
    "    result: list[str] = []\n",
    "\n",
    "    # Создаем каждую строку пирамиды\n",
    "    for i in range(1, size + 1):\n",
    "        # Вычисляем количество пробелов для выравнивания\n",
    "        spaces = \" \" * ((size * 2) - 2 * i)\n",
    "        \n",
    "        # Формируем строку чисел для текущей строки\n",
    "        # Если это первая строка, выводим только '1'\n",
    "        numbers = ' '.join(map(str, range(1, i + 1))) + ' ' + ' '.join(map(str, range(i - 1, 0, -1))) if i > 1 else '1'\n",
    "        \n",
    "        # Добавляем строку в результат\n",
    "        result.append(spaces + numbers)\n",
    "\n",
    "    return \"\\n\".join(result)\n",
    "\n",
    "# Получаем ввод пользователя\n",
    "user_input = input(\"Введите положительное натуральное число - количество строк пирамиды: \")\n",
    "\n",
    "try:\n",
    "    # Проверяем, что введено положительное целое число и не больше 9\n",
    "    if int(user_input) <= 9 and (user_input).isdigit():\n",
    "        print(ladder(int(user_input)))\n",
    "    else:\n",
    "        print(\"Вы ввели не число или слишком большое значение.\")\n",
    "except ValueError:\n",
    "    print(\"Пожалуйста, введите целое число.\")\n",
    "\n",
    "# Удаляем переменную user_input после использования\n",
    "del user_input"
   ]
  },
  {
   "cell_type": "markdown",
   "metadata": {},
   "source": [
    "Задание 4.\n",
    "Задан список с числами.\n",
    "Напишите функцию, которая добавляет все элементы с четными индексами в новый список и возвращает его."
   ]
  },
  {
   "cell_type": "code",
   "execution_count": 10,
   "metadata": {
    "ExecuteTime": {
     "end_time": "2024-11-18T18:11:31.606804300Z",
     "start_time": "2024-11-18T18:11:26.851378300Z"
    }
   },
   "outputs": [
    {
     "name": "stdin",
     "output_type": "stream",
     "text": [
      "Введите элементы списка подряд через пробел:  1 2 3 4 5 6 7 8\n"
     ]
    },
    {
     "name": "stdout",
     "output_type": "stream",
     "text": [
      "Весь входной список:\n",
      "['1', '2', '3', '4', '5', '6', '7', '8']\n",
      "\n",
      "Список с элементами по четным индексам:\n",
      "['1', '3', '5', '7']\n"
     ]
    }
   ],
   "source": [
    "def get_list_with_even_idx(lst):\n",
    "    \"\"\"\n",
    "    Создает новый список, содержащий элементы исходного списка по четным индексам.\n",
    "    \n",
    "    Args:\n",
    "        lst (list): Исходный список.\n",
    "    \n",
    "    Returns:\n",
    "        list: Новый список с элементами по четным индексам.\n",
    "    \"\"\"\n",
    "    return [element for index, element in enumerate(lst) if index % 2 == 0]\n",
    "\n",
    "# Получаем ввод пользователя\n",
    "user_input = input(\"Введите элементы списка подряд через пробел: \").split()\n",
    "\n",
    "# Выводим весь входной список\n",
    "print(\"Весь входной список:\")\n",
    "print(user_input)\n",
    "\n",
    "# Получаем и выводим список с элементами по четным индексам\n",
    "print(\"\\nСписок с элементами по четным индексам:\")\n",
    "print(get_list_with_even_idx(user_input))\n",
    "\n",
    "# Удаляем переменную user_input после использования\n",
    "del user_input"
   ]
  },
  {
   "cell_type": "markdown",
   "metadata": {},
   "source": [
    "Задание 5. Задан список с числами.\n",
    "Напишите функцию, которая меняет местами наибольший и наименьший элемент и возвращает новый список."
   ]
  },
  {
   "cell_type": "code",
   "execution_count": 11,
   "metadata": {
    "ExecuteTime": {
     "end_time": "2024-11-18T18:11:45.115672400Z",
     "start_time": "2024-11-18T18:11:42.541416700Z"
    }
   },
   "outputs": [
    {
     "name": "stdin",
     "output_type": "stream",
     "text": [
      "Вводите числа через пробел:  0 1 2 3 4 5 99\n"
     ]
    },
    {
     "name": "stdout",
     "output_type": "stream",
     "text": [
      "Весь входной список:\n",
      "['0', '1', '2', '3', '4', '5', '99']\n",
      "\n",
      "Результат после изменения мест максимального и минимального чисел:\n",
      "[99, 1, 2, 3, 4, 5, 0]\n"
     ]
    }
   ],
   "source": [
    "def max_min(numbers):\n",
    "    \"\"\"\n",
    "    Меняет местами максимальное и минимальное числа в списке.\n",
    "    \n",
    "    Args:\n",
    "        numbers (list): Список чисел.\n",
    "    \n",
    "    Returns:\n",
    "        list: Новый список с максимальным и минимальным числами на своих местах.\n",
    "    \"\"\"\n",
    "    # Создаем копию исходного списка\n",
    "    result = numbers.copy()\n",
    "    \n",
    "    # Находим индексы максимального и минимального чисел\n",
    "    i, j = numbers.index(max(numbers)), numbers.index(min(numbers))\n",
    "    \n",
    "    # Меняем местами максимальное и минимальное числа\n",
    "    result[i], result[j] = result[j], result[i]\n",
    "    \n",
    "    return result\n",
    "\n",
    "# Получаем ввод пользователя\n",
    "user_input = input(\"Вводите числа через пробел: \").strip().split()\n",
    "\n",
    "try:\n",
    "    # Выводим весь входной список\n",
    "    print(\"Весь входной список:\")\n",
    "    print(user_input)\n",
    "    \n",
    "    # Преобразуем строковый список в список целых чисел и применяем функцию max_min\n",
    "    print(\"\\nРезультат после изменения мест максимального и минимального чисел:\")\n",
    "    print(max_min(list(map(int, user_input))))\n",
    "    \n",
    "except ValueError:\n",
    "    print(\"Неправильный ввод! Пожалуйста, введите только числа.\")\n",
    "except Exception as e:\n",
    "    print(f\"Неожиданная ошибка: {e}\")\n",
    "finally:\n",
    "    # Удаляем переменную user_input после использования\n",
    "    del user_input"
   ]
  },
  {
   "cell_type": "markdown",
   "metadata": {},
   "source": [
    "Задание 6. Пароль считается надежным, если его длина составляет не менее 12 символов, при этом он должен содержать хотя бы\n",
    "1 заглавную букву, хотя бы 1 строчную букву, хотя бы 1 цифру, хотя бы один спецсимвол.\n",
    "Напишите функцию, которая обрабатывает данные и возвращает 1 - если может быть паролем, и 0 в обратном случае."
   ]
  },
  {
   "cell_type": "code",
   "execution_count": 13,
   "metadata": {},
   "outputs": [
    {
     "name": "stdin",
     "output_type": "stream",
     "text": [
      "Введите пароль:  P@ssword1234\n"
     ]
    },
    {
     "name": "stdout",
     "output_type": "stream",
     "text": [
      "Весь введенный пароль:\n",
      "P@ssword1234\n",
      "\n",
      "Результат проверки пароля:\n",
      "1\n"
     ]
    }
   ],
   "source": [
    "import re\n",
    "\n",
    "def bool_pass(password):\n",
    "    \"\"\"\n",
    "    Проверяет, соответствует ли пароль заданному шаблону.\n",
    "    \n",
    "    Args:\n",
    "        password (str): Пароль для проверки.\n",
    "    \n",
    "    Returns:\n",
    "        int: 1, если пароль соответствует шаблону, иначе 0.\n",
    "    \"\"\"\n",
    "    # Шаблон регулярного выражения для проверки пароля\n",
    "    pattern = r'^(?=.*[A-Z])(?=.*[a-z])(?=.*[0-9])(?=.*[!@#$%^&*(),.?\":{}|<>]).{12,}$'\n",
    "    \n",
    "    # Проверяем соответствие пароля шаблону и возвращаем результат как целое число (1 или 0)\n",
    "    return int(bool(re.match(pattern, password)))\n",
    "\n",
    "# Получаем ввод пользователя\n",
    "user_input = input(\"Введите пароль: \")\n",
    "\n",
    "try:\n",
    "    # Выводим весь входной пароль (без обработки)\n",
    "    print(\"Весь введенный пароль:\")\n",
    "    print(user_input)\n",
    "    \n",
    "    # Проверяем пароль и выводим результат\n",
    "    print(\"\\nРезультат проверки пароля:\")\n",
    "    print(bool_pass(user_input))\n",
    "    \n",
    "except ValueError:\n",
    "    print(\"Неправильный ввод! Пожалуйста, введите только текст.\")\n",
    "except Exception as e:\n",
    "    print(f\"Неожиданная ошибка при проверке пароля: {e}\")\n",
    "finally:\n",
    "    # Удаляем переменную user_input после использования\n",
    "    del user_input"
   ]
  },
  {
   "cell_type": "markdown",
   "metadata": {},
   "source": [
    "Задание 7. Напишите функцию, которая будет производить поиск по значению и выдавать ключ."
   ]
  },
  {
   "cell_type": "code",
   "execution_count": 15,
   "metadata": {},
   "outputs": [
    {
     "name": "stdout",
     "output_type": "stream",
     "text": [
      "{'1': 'first', '2': 'second', '3': 'third'}\n"
     ]
    },
    {
     "name": "stdin",
     "output_type": "stream",
     "text": [
      "Введите словарь по следующему правилу {key: value, key: value, ...}:  third\n"
     ]
    },
    {
     "ename": "ValueError",
     "evalue": "malformed node or string on line 1: <ast.Name object at 0x0000024F7BD28B50>",
     "output_type": "error",
     "traceback": [
      "\u001b[1;31m---------------------------------------------------------------------------\u001b[0m",
      "\u001b[1;31mValueError\u001b[0m                                Traceback (most recent call last)",
      "Cell \u001b[1;32mIn[15], line 31\u001b[0m\n\u001b[0;32m     28\u001b[0m user_input_dict \u001b[38;5;241m=\u001b[39m \u001b[38;5;28minput\u001b[39m(\u001b[38;5;124m\"\u001b[39m\u001b[38;5;124mВведите словарь по следующему правилу \u001b[39m\u001b[38;5;124m{\u001b[39m\u001b[38;5;124mkey: value, key: value, ...}: \u001b[39m\u001b[38;5;124m\"\u001b[39m)\n\u001b[0;32m     29\u001b[0m \u001b[38;5;28;01mtry\u001b[39;00m:\n\u001b[0;32m     30\u001b[0m     \u001b[38;5;66;03m# Преобразуем строку в словарь с помощью ast.literal_eval()\u001b[39;00m\n\u001b[1;32m---> 31\u001b[0m     dictionary: \u001b[38;5;28mdict\u001b[39m[\u001b[38;5;28mstr\u001b[39m, \u001b[38;5;28mstr\u001b[39m] \u001b[38;5;241m=\u001b[39m ast\u001b[38;5;241m.\u001b[39mliteral_eval(user_input_dict)\n\u001b[0;32m     32\u001b[0m \u001b[38;5;28;01mexcept\u001b[39;00m \u001b[38;5;167;01mSyntaxError\u001b[39;00m:\n\u001b[0;32m     33\u001b[0m     \u001b[38;5;28mprint\u001b[39m(\u001b[38;5;124m\"\u001b[39m\u001b[38;5;124mОшибка синтаксиса при создании словаря.\u001b[39m\u001b[38;5;124m\"\u001b[39m)\n",
      "File \u001b[1;32mC:\\ProgramData\\anaconda3\\Lib\\ast.py:112\u001b[0m, in \u001b[0;36mliteral_eval\u001b[1;34m(node_or_string)\u001b[0m\n\u001b[0;32m    110\u001b[0m                 \u001b[38;5;28;01mreturn\u001b[39;00m left \u001b[38;5;241m-\u001b[39m right\n\u001b[0;32m    111\u001b[0m     \u001b[38;5;28;01mreturn\u001b[39;00m _convert_signed_num(node)\n\u001b[1;32m--> 112\u001b[0m \u001b[38;5;28;01mreturn\u001b[39;00m _convert(node_or_string)\n",
      "File \u001b[1;32mC:\\ProgramData\\anaconda3\\Lib\\ast.py:111\u001b[0m, in \u001b[0;36mliteral_eval.<locals>._convert\u001b[1;34m(node)\u001b[0m\n\u001b[0;32m    109\u001b[0m         \u001b[38;5;28;01melse\u001b[39;00m:\n\u001b[0;32m    110\u001b[0m             \u001b[38;5;28;01mreturn\u001b[39;00m left \u001b[38;5;241m-\u001b[39m right\n\u001b[1;32m--> 111\u001b[0m \u001b[38;5;28;01mreturn\u001b[39;00m _convert_signed_num(node)\n",
      "File \u001b[1;32mC:\\ProgramData\\anaconda3\\Lib\\ast.py:85\u001b[0m, in \u001b[0;36mliteral_eval.<locals>._convert_signed_num\u001b[1;34m(node)\u001b[0m\n\u001b[0;32m     83\u001b[0m     \u001b[38;5;28;01melse\u001b[39;00m:\n\u001b[0;32m     84\u001b[0m         \u001b[38;5;28;01mreturn\u001b[39;00m \u001b[38;5;241m-\u001b[39m operand\n\u001b[1;32m---> 85\u001b[0m \u001b[38;5;28;01mreturn\u001b[39;00m _convert_num(node)\n",
      "File \u001b[1;32mC:\\ProgramData\\anaconda3\\Lib\\ast.py:76\u001b[0m, in \u001b[0;36mliteral_eval.<locals>._convert_num\u001b[1;34m(node)\u001b[0m\n\u001b[0;32m     74\u001b[0m \u001b[38;5;28;01mdef\u001b[39;00m \u001b[38;5;21m_convert_num\u001b[39m(node):\n\u001b[0;32m     75\u001b[0m     \u001b[38;5;28;01mif\u001b[39;00m \u001b[38;5;129;01mnot\u001b[39;00m \u001b[38;5;28misinstance\u001b[39m(node, Constant) \u001b[38;5;129;01mor\u001b[39;00m \u001b[38;5;28mtype\u001b[39m(node\u001b[38;5;241m.\u001b[39mvalue) \u001b[38;5;129;01mnot\u001b[39;00m \u001b[38;5;129;01min\u001b[39;00m (\u001b[38;5;28mint\u001b[39m, \u001b[38;5;28mfloat\u001b[39m, \u001b[38;5;28mcomplex\u001b[39m):\n\u001b[1;32m---> 76\u001b[0m         _raise_malformed_node(node)\n\u001b[0;32m     77\u001b[0m     \u001b[38;5;28;01mreturn\u001b[39;00m node\u001b[38;5;241m.\u001b[39mvalue\n",
      "File \u001b[1;32mC:\\ProgramData\\anaconda3\\Lib\\ast.py:73\u001b[0m, in \u001b[0;36mliteral_eval.<locals>._raise_malformed_node\u001b[1;34m(node)\u001b[0m\n\u001b[0;32m     71\u001b[0m \u001b[38;5;28;01mif\u001b[39;00m lno \u001b[38;5;241m:=\u001b[39m \u001b[38;5;28mgetattr\u001b[39m(node, \u001b[38;5;124m'\u001b[39m\u001b[38;5;124mlineno\u001b[39m\u001b[38;5;124m'\u001b[39m, \u001b[38;5;28;01mNone\u001b[39;00m):\n\u001b[0;32m     72\u001b[0m     msg \u001b[38;5;241m+\u001b[39m\u001b[38;5;241m=\u001b[39m \u001b[38;5;124mf\u001b[39m\u001b[38;5;124m'\u001b[39m\u001b[38;5;124m on line \u001b[39m\u001b[38;5;132;01m{\u001b[39;00mlno\u001b[38;5;132;01m}\u001b[39;00m\u001b[38;5;124m'\u001b[39m\n\u001b[1;32m---> 73\u001b[0m \u001b[38;5;28;01mraise\u001b[39;00m \u001b[38;5;167;01mValueError\u001b[39;00m(msg \u001b[38;5;241m+\u001b[39m \u001b[38;5;124mf\u001b[39m\u001b[38;5;124m'\u001b[39m\u001b[38;5;124m: \u001b[39m\u001b[38;5;132;01m{\u001b[39;00mnode\u001b[38;5;132;01m!r}\u001b[39;00m\u001b[38;5;124m'\u001b[39m)\n",
      "\u001b[1;31mValueError\u001b[0m: malformed node or string on line 1: <ast.Name object at 0x0000024F7BD28B50>"
     ]
    }
   ],
   "source": [
    "import ast\n",
    "\n",
    "# Пример использования функции search_key\n",
    "example_dict = {\"1\": \"first\", \"2\": \"second\", \"3\": \"third\"}\n",
    "print(example_dict)\n",
    "\n",
    "def search_key(value, dictionary):\n",
    "    \"\"\"\n",
    "    Ищет ключ словаря по значению.\n",
    "    \n",
    "    Args:\n",
    "        value (str): Значение для поиска.\n",
    "        dictionary (dict): Исходный словарь.\n",
    "    \n",
    "    Returns:\n",
    "        str: Найденный ключ, если значение существует; иначе сообщение об отсутствии ключа.\n",
    "    \"\"\"\n",
    "    # Перебираем все пары ключ-значение в словаре\n",
    "    for k, v in dictionary.items():\n",
    "        # Сравниваем строковое представление значения с введенным значением\n",
    "        if str(v) == value:\n",
    "            return k\n",
    "\n",
    "    # Если значение не найдено, возвращаем сообщение об ошибке\n",
    "    return \"Нет ключа с таким значением в словаре\"\n",
    "\n",
    "# Получаем ввод пользователя для создания словаря\n",
    "user_input_dict = input(\"Введите словарь по следующему правилу {key: value, key: value, ...}: \")\n",
    "try:\n",
    "    # Преобразуем строку в словарь с помощью ast.literal_eval()\n",
    "    dictionary: dict[str, str] = ast.literal_eval(user_input_dict)\n",
    "except SyntaxError:\n",
    "    print(\"Ошибка синтаксиса при создании словаря.\")\n",
    "    exit()\n",
    "\n",
    "# Получаем ввод пользователя для поиска значения\n",
    "value = input(\"Введите значение для поиска: \")\n",
    "\n",
    "print(search_key(value, dictionary))\n",
    "\n",
    "# Удаляем переменные после использования\n",
    "del user_input_dict\n",
    "del value"
   ]
  },
  {
   "cell_type": "code",
   "execution_count": null,
   "metadata": {},
   "outputs": [],
   "source": []
  }
 ],
 "metadata": {
  "kernelspec": {
   "display_name": "Python 3 (ipykernel)",
   "language": "python",
   "name": "python3"
  },
  "language_info": {
   "codemirror_mode": {
    "name": "ipython",
    "version": 3
   },
   "file_extension": ".py",
   "mimetype": "text/x-python",
   "name": "python",
   "nbconvert_exporter": "python",
   "pygments_lexer": "ipython3",
   "version": "3.12.7"
  }
 },
 "nbformat": 4,
 "nbformat_minor": 4
}
