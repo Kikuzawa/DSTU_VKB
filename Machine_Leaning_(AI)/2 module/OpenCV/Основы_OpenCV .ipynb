{
 "cells": [
  {
   "cell_type": "code",
   "execution_count": 7,
   "metadata": {},
   "outputs": [
    {
     "name": "stdout",
     "output_type": "stream",
     "text": [
      "Defaulting to user installation because normal site-packages is not writeable\n",
      "Requirement already satisfied: opencv-python in /home/kikuzawa/.local/lib/python3.12/site-packages (4.10.0.84)\n",
      "Requirement already satisfied: numpy>=1.21.2 in /usr/lib/python3.12/site-packages (from opencv-python) (2.1.3)\n",
      "Note: you may need to restart the kernel to use updated packages.\n"
     ]
    }
   ],
   "source": [
    "pip install opencv-python # установка библиотеки  OpenCV\n"
   ]
  },
  {
   "cell_type": "markdown",
   "metadata": {
    "id": "GpWaO2ahYyJb"
   },
   "source": [
    "Задание 1.\n",
    "1. Измените программу, задав фиксированную высоту изображе\u0002ния.\n",
    "2. Измените программу для уменьшения / увеличения изображения \n",
    "в 2 раза."
   ]
  },
  {
   "cell_type": "code",
   "execution_count": 10,
   "metadata": {},
   "outputs": [
    {
     "ename": "ModuleNotFoundError",
     "evalue": "No module named 'google'",
     "output_type": "error",
     "traceback": [
      "\u001b[0;31m---------------------------------------------------------------------------\u001b[0m",
      "\u001b[0;31mModuleNotFoundError\u001b[0m                       Traceback (most recent call last)",
      "Cell \u001b[0;32mIn[10], line 3\u001b[0m\n\u001b[1;32m      1\u001b[0m \u001b[38;5;66;03m# добавляем необходимый пакет с opencv\u001b[39;00m\n\u001b[1;32m      2\u001b[0m \u001b[38;5;28;01mimport\u001b[39;00m \u001b[38;5;21;01mcv2\u001b[39;00m\n\u001b[0;32m----> 3\u001b[0m \u001b[38;5;28;01mfrom\u001b[39;00m \u001b[38;5;21;01mgoogle\u001b[39;00m\u001b[38;5;21;01m.\u001b[39;00m\u001b[38;5;21;01mcolab\u001b[39;00m\u001b[38;5;21;01m.\u001b[39;00m\u001b[38;5;21;01mpatches\u001b[39;00m \u001b[38;5;28;01mimport\u001b[39;00m cv2_imshow\n\u001b[1;32m      4\u001b[0m \u001b[38;5;66;03m# загружаем изображение\u001b[39;00m\n\u001b[1;32m      5\u001b[0m image \u001b[38;5;241m=\u001b[39m cv2\u001b[38;5;241m.\u001b[39mimread(\u001b[38;5;124mr\u001b[39m\u001b[38;5;124m\"\u001b[39m\u001b[38;5;124m/content/testfile.jpeg\u001b[39m\u001b[38;5;124m\"\u001b[39m)\n",
      "\u001b[0;31mModuleNotFoundError\u001b[0m: No module named 'google'"
     ]
    }
   ],
   "source": [
    "# добавляем необходимый пакет с opencv\n",
    "import cv2\n",
    "from google.colab.patches import cv2_imshow\n",
    "# загружаем изображение\n",
    "image = cv2.imread(r\"/content/testfile.jpeg\")\n",
    "# задаем ширину изображения в пикселях\n",
    "wide = 250\n",
    "height = 100\n",
    "# изменяем изображение и возвращаем его в переменную res\n",
    "res = cv2.resize(image,(wide, height),  interpolation = cv2.INTER_AREA)\n",
    "# выводим изображение res на экран\n",
    "cv2_imshow(res)\n",
    "#   ЗА ЧТО ОТВЕЧАЕТ ЭТА КОМАНДА?\n",
    "cv2_imshow(image)"
   ]
  },
  {
   "cell_type": "code",
   "execution_count": 11,
   "metadata": {},
   "outputs": [
    {
     "ename": "ModuleNotFoundError",
     "evalue": "No module named 'google'",
     "output_type": "error",
     "traceback": [
      "\u001b[0;31m---------------------------------------------------------------------------\u001b[0m",
      "\u001b[0;31mModuleNotFoundError\u001b[0m                       Traceback (most recent call last)",
      "Cell \u001b[0;32mIn[11], line 3\u001b[0m\n\u001b[1;32m      1\u001b[0m \u001b[38;5;66;03m# добавляем необходимый пакет с opencv\u001b[39;00m\n\u001b[1;32m      2\u001b[0m \u001b[38;5;28;01mimport\u001b[39;00m \u001b[38;5;21;01mcv2\u001b[39;00m\n\u001b[0;32m----> 3\u001b[0m \u001b[38;5;28;01mfrom\u001b[39;00m \u001b[38;5;21;01mgoogle\u001b[39;00m\u001b[38;5;21;01m.\u001b[39;00m\u001b[38;5;21;01mcolab\u001b[39;00m\u001b[38;5;21;01m.\u001b[39;00m\u001b[38;5;21;01mpatches\u001b[39;00m \u001b[38;5;28;01mimport\u001b[39;00m cv2_imshow\n\u001b[1;32m      4\u001b[0m \u001b[38;5;66;03m# загружаем изображение\u001b[39;00m\n\u001b[1;32m      5\u001b[0m image \u001b[38;5;241m=\u001b[39m cv2\u001b[38;5;241m.\u001b[39mimread(\u001b[38;5;124mr\u001b[39m\u001b[38;5;124m\"\u001b[39m\u001b[38;5;124m/content/testfile.jpeg\u001b[39m\u001b[38;5;124m\"\u001b[39m)\n",
      "\u001b[0;31mModuleNotFoundError\u001b[0m: No module named 'google'"
     ]
    }
   ],
   "source": [
    "# добавляем необходимый пакет с opencv\n",
    "import cv2\n",
    "from google.colab.patches import cv2_imshow\n",
    "# загружаем изображение\n",
    "image = cv2.imread(r\"/content/testfile.jpeg\")\n",
    "# задаем ширину изображения в пикселях\n",
    "wide = int(image.shape[1] / 2)\n",
    "height = int(image.shape[0] / 2)\n",
    "# изменяем изображение и возвращаем его в переменную res\n",
    "res = cv2.resize(image, (wide, height),  interpolation = cv2.INTER_AREA)\n",
    "# выводим изображение res на экран\n",
    "cv2_imshow(res)\n",
    "#   ЗА ЧТО ОТВЕЧАЕТ ЭТА КОМАНДА?\n",
    "cv2_imshow(image)"
   ]
  },
  {
   "cell_type": "markdown",
   "metadata": {
    "id": "89uF4i3Yb7iN"
   },
   "source": [
    "Задание 2\n",
    "1. Подберите срезы так, чтобы в вырезанный фрагмент попали ав\u0002томобили или другие объекты на заднем плане вашего рисунка.\n",
    "2. Используя программу из прошлого урока, выведите на экран \n",
    "изображение вырезанного фрагмента, увеличенное в 3 раза.\n"
   ]
  },
  {
   "cell_type": "code",
   "execution_count": null,
   "metadata": {},
   "outputs": [],
   "source": [
    " # добавляем необходимый пакет с opencv\n",
    "import cv2\n",
    "from google.colab.patches import cv2_imshow\n",
    "# загружаем изображение\n",
    "image = cv2.imread(\"testfile.jpeg\")\n",
    "# вырежем фрагмент изображения, используя срезы  y1:y2, x1:x2\n",
    "crop = image[550:1000, 850:1250]\n",
    "# ???\n",
    "cv2_imshow(image)\n",
    "# выводим фрагмент изображения crop в окне CropImage\n",
    "cv2_imshow(crop)"
   ]
  },
  {
   "cell_type": "code",
   "execution_count": null,
   "metadata": {},
   "outputs": [],
   "source": [
    " # добавляем необходимый пакет с opencv\n",
    "import cv2\n",
    "from google.colab.patches import cv2_imshow\n",
    "# загружаем изображение\n",
    "image = cv2.imread(\"testfile.jpeg\")\n",
    "# вырежем фрагмент изображения, используя срезы  y1:y2, x1:x2\n",
    "crop = image[550:1000, 850:1250]\n",
    "# ???\n",
    "cv2_imshow(image)\n",
    "# выводим фрагмент изображения crop в окне CropImage\n",
    "\n",
    "cv2.imwrite(r\"/content/img1.jpeg\", crop)\n",
    "img1 = cv2.imread(r\"/content/img1.jpeg\")\n",
    "wide = int(img1.shape[1] * 3)\n",
    "height = int(img1.shape[0] * 3)\n",
    "res = cv2.resize(img1,(wide, height),  interpolation = cv2.INTER_AREA)\n",
    "cv2_imshow(res)"
   ]
  },
  {
   "cell_type": "markdown",
   "metadata": {
    "id": "6S8Dkjc5Pcgm"
   },
   "source": [
    "Задание 3\n",
    "1. Поверните исходное изображение на 45°, 90°, 120°.\n",
    "2. Выведите на экран уменьшенное перевернутое изображение.\n",
    "3. Вырежите произвольный фрагмент изображения и выполните \n",
    "его поворот."
   ]
  },
  {
   "cell_type": "code",
   "execution_count": null,
   "metadata": {},
   "outputs": [],
   "source": [
    "# добавляем необходимый пакет с opencv\n",
    "import cv2\n",
    "from google.colab.patches import cv2_imshow\n",
    "# загружаем изображение\n",
    "image = cv2.imread(\"testfile.jpeg\")\n",
    "# получаем размеры исходного изображения для поворота\n",
    "(h, w) = image.shape[:2]\n",
    "# вычислим центр изображения, относительно которого выполним поворот\n",
    "center = (w / 2, h / 2)\n",
    "# подготовим объект для поворота изображения на 180º\n",
    "# относительно центра и запишем его в переменную\n",
    "# prepObj\n",
    "prepObj = cv2.getRotationMatrix2D(center, 45, 1.0)\n",
    "prepObj1 = cv2.getRotationMatrix2D(center, 90, 1.0)\n",
    "prepObj2 = cv2.getRotationMatrix2D(center, 120, 1.0)\n",
    "\n",
    "\n",
    "\n",
    "# повернем исходное изображение на 180°,\n",
    "# результат запишем в переменную rotated\n",
    "rotated = cv2.warpAffine(image, prepObj, (w, h))\n",
    "rotated1 = cv2.warpAffine(image, prepObj1, (w, h))\n",
    "rotated2 = cv2.warpAffine(image, prepObj2, (w, h))\n",
    "# выводим исходное изображение на экран\n",
    "cv2_imshow(image)\n",
    "# выводим повернутое изображение на экран\n",
    "cv2_imshow(rotated)\n",
    "cv2_imshow(rotated1)\n",
    "cv2_imshow(rotated2)\n"
   ]
  },
  {
   "cell_type": "code",
   "execution_count": null,
   "metadata": {},
   "outputs": [],
   "source": [
    "# добавляем необходимый пакет с opencv\n",
    "import cv2\n",
    "from google.colab.patches import cv2_imshow\n",
    "# загружаем изображение\n",
    "image = cv2.imread(\"testfile.jpeg\")\n",
    "# получаем размеры исходного изображения для поворота\n",
    "(h, w) = image.shape[:2]\n",
    "# вычислим центр изображения, относительно которого выполним поворот\n",
    "center = (w / 2, h / 2)\n",
    "# подготовим объект для поворота изображения на 180º\n",
    "# относительно центра и запишем его в переменную\n",
    "# prepObj\n",
    "prepObj = cv2.getRotationMatrix2D(center, 180, 1.0)\n",
    "# повернем исходное изображение на 180°,\n",
    "# результат запишем в переменную rotated\n",
    "rotated = cv2.warpAffine(image, prepObj, (w, h))\n",
    "# выводим исходное изображение на экран\n",
    "cv2_imshow(image)\n",
    "# выводим повернутое изображение на экран\n",
    "wide = int(rotated.shape[1]/2)\n",
    "height = int(rotated.shape[0]/2)\n",
    "rotated1 = cv2.resize(rotated,(wide, height), interpolation = cv2.INTER_AREA)\n",
    "cv2_imshow(rotated1)"
   ]
  },
  {
   "cell_type": "code",
   "execution_count": null,
   "metadata": {},
   "outputs": [],
   "source": [
    "# Вырежите произвольный фрагмент изображения и выполните его поворот.\n",
    "\n",
    " # добавляем необходимый пакет с opencv\n",
    "import cv2\n",
    "from google.colab.patches import cv2_imshow\n",
    "# загружаем изображение\n",
    "image = cv2.imread(\"testfile.jpeg\")\n",
    "# вырежем фрагмент изображения, используя срезы  y1:y2, x1:x2\n",
    "crop = image[550:1000, 850:1250]\n",
    "# ???\n",
    "cv2_imshow(image)\n",
    "# выводим фрагмент изображения crop в окне CropImage\n",
    "\n",
    "cv2.imwrite(r\"/content/img1.jpeg\", crop)\n",
    "img1 = cv2.imread(r\"/content/img1.jpeg\")\n",
    "# получаем размеры исходного изображения для поворота\n",
    "(h, w) = img1.shape[:2]\n",
    "# вычислим центр изображения, относительно которого выполним поворот\n",
    "center = (w / 2, h / 2)\n",
    "# подготовим объект для поворота изображения на 180º\n",
    "# относительно центра и запишем его в переменную\n",
    "# prepObj\n",
    "prepObj = cv2.getRotationMatrix2D(center, 180, 1.0)\n",
    "# повернем исходное изображение на 180°,\n",
    "# результат запишем в переменную rotated\n",
    "rotated = cv2.warpAffine(img1, prepObj, (w, h))\n",
    "cv2_imshow(rotated)"
   ]
  },
  {
   "cell_type": "markdown",
   "metadata": {
    "id": "wDR1Ag1XRAIS"
   },
   "source": [
    "Задание 4\n",
    "1. Выполните оставшиеся способы зеркального отражения.\n",
    "2. Вырежите произвольный фрагмент изображения и выполните \n",
    "его зеркальное отражение одним из способов."
   ]
  },
  {
   "cell_type": "code",
   "execution_count": null,
   "metadata": {},
   "outputs": [],
   "source": [
    "# добавляем необходимый пакет с opencv\n",
    "import cv2\n",
    "from google.colab.patches import cv2_imshow\n",
    "# загружаем изображение\n",
    "image = cv2.imread(\"testfile.jpeg\")\n",
    "# отражаем изображение по вертикальной оси\n",
    "flipped = cv2.flip(image,1)\n",
    "flipped1 = cv2.flip(image,0)\n",
    "flipped2 = cv2.flip(image,-1)\n",
    "cv2_imshow(image)\n",
    "cv2_imshow(flipped)\n",
    "cv2_imshow(flipped1)\n",
    "cv2_imshow(flipped2)"
   ]
  },
  {
   "cell_type": "code",
   "execution_count": null,
   "metadata": {},
   "outputs": [],
   "source": [
    "# Вырежите произвольный фрагмент изображения и выполните его зеркальное отражение одним из способов.\n",
    "\n",
    "\n",
    " # добавляем необходимый пакет с opencv\n",
    "import cv2\n",
    "from google.colab.patches import cv2_imshow\n",
    "# загружаем изображение\n",
    "image = cv2.imread(\"testfile.jpeg\")\n",
    "# вырежем фрагмент изображения, используя срезы  y1:y2, x1:x2\n",
    "crop = image[550:1000, 850:1250]\n",
    "# ???\n",
    "cv2_imshow(image)\n",
    "\n",
    "\n",
    "cv2.imwrite(r\"/content/img1.jpeg\", crop)\n",
    "img1 = cv2.imread(r\"/content/img1.jpeg\")\n",
    "flipped = cv2.flip(img1,1)\n",
    "cv2_imshow(flipped)\n"
   ]
  },
  {
   "cell_type": "markdown",
   "metadata": {
    "id": "3yIRnfRuTcpt"
   },
   "source": [
    "Задание 5\n",
    "1. Сохраните фрагмент изображения (см. раздел «Вырезка фраг\u0002мента изображения») в файл формата .jpg.\n",
    "2. Сохраните одно из преобразованных изображений (см. раздел \n",
    "«Поворот изображения») в файл формата .png"
   ]
  },
  {
   "cell_type": "code",
   "execution_count": null,
   "metadata": {},
   "outputs": [],
   "source": [
    "# добавляем необходимый пакет с opencv\n",
    "import cv2\n",
    "from google.colab.patches import cv2_imshow\n",
    "# загружаем изображение\n",
    "image = cv2.imread(\"testfile.jpeg\")\n",
    "# вырежем фрагмент изображения, используя срезы  y1:y2, x1:x2\n",
    "crop = image[550:1000, 850:1250]\n",
    "# ???\n",
    "cv2_imshow(image)\n",
    "# выводим фрагмент изображения crop в окне CropImage\n",
    "\n",
    "cv2.imwrite(r\"/content/img1.jpg\", crop)\n",
    "img1 = cv2.imread(r\"/content/img1.jpg\")\n",
    "wide = int(img1.shape[1] * 3)\n",
    "height = int(img1.shape[0] * 3)\n",
    "res = cv2.resize(img1,(wide, height),  interpolation = cv2.INTER_AREA)\n",
    "cv2_imshow(res)"
   ]
  },
  {
   "cell_type": "code",
   "execution_count": null,
   "metadata": {},
   "outputs": [],
   "source": [
    "# добавляем необходимый пакет с opencv\n",
    "import cv2\n",
    "from google.colab.patches import cv2_imshow\n",
    "# загружаем изображение\n",
    "image = cv2.imread(\"testfile.jpeg\")\n",
    "# получаем размеры исходного изображения для поворота\n",
    "(h, w) = image.shape[:2]\n",
    "# вычислим центр изображения, относительно которого выполним поворот\n",
    "center = (w / 2, h / 2)\n",
    "# подготовим объект для поворота изображения на 180º\n",
    "# относительно центра и запишем его в переменную\n",
    "# prepObj\n",
    "prepObj = cv2.getRotationMatrix2D(center, 180, 1.0)\n",
    "# повернем исходное изображение на 180°,\n",
    "# результат запишем в переменную rotated\n",
    "rotated = cv2.warpAffine(image, prepObj, (w, h))\n",
    "# выводим исходное изображение на экран\n",
    "cv2_imshow(image)\n",
    "# выводим повернутое изображение на экран\n",
    "cv2.imwrite(r\"/content/img2.png\", rotated)\n",
    "img2 = cv2.imread(r\"/content/img2.png\")\n",
    "cv2_imshow(img2)"
   ]
  },
  {
   "cell_type": "markdown",
   "metadata": {
    "id": "QUm4OMYCdBng"
   },
   "source": [
    "Задание 6\n",
    "1. Загрузите произвольное изображение с дорожными знаками \n",
    "и подберите параметры low_color, high_color для выделения одного из знаков или каких-либо ярких объектов. Возьмите файл с названием dorZnak1.jpg\n",
    "2. Подберите и запишите параметры low_color, high_color\n",
    "для различных дорожных знаков, ярких объектов из различных \n",
    "изображений. Выполните вывод на экран"
   ]
  },
  {
   "cell_type": "code",
   "execution_count": null,
   "metadata": {},
   "outputs": [],
   "source": [
    "# добавляем необходимый пакет с opencv\n",
    "import cv2\n",
    "from google.colab.patches import cv2_imshow\n",
    "# загружаем изображение\n",
    "image = cv2.imread(r\"/content/DorZnak1.jpg\")\n",
    "cv2_imshow( image)\n",
    "# задаем границы диапазона:\n",
    "# нижнюю\n",
    "low_color = (200,30,0)\n",
    "# и верхнюю\n",
    "high_color = (255,70,15)\n",
    "# наложение цветовой маски на исходное изображение,\n",
    "# результат присваиваем переменной only_object\n",
    "only_object = cv2.inRange(image, low_color,  high_color)\n",
    "# вывод отф only_object)\n",
    "cv2_imshow(only_object)"
   ]
  },
  {
   "cell_type": "code",
   "execution_count": null,
   "metadata": {},
   "outputs": [],
   "source": [
    "# добавляем необходимый пакет с opencv\n",
    "import cv2\n",
    "from google.colab.patches import cv2_imshow\n",
    "# загружаем изображение\n",
    "image = cv2.imread(r\"/content/3_DSC8202.jpg\")\n",
    "cv2_imshow( image)\n",
    "# задаем границы диапазона:\n",
    "# нижнюю\n",
    "low_color = (45,45,240)\n",
    "# и верхнюю\n",
    "high_color = (180,190,255)\n",
    "# наложение цветовой маски на исходное изображение,\n",
    "# результат присваиваем переменной only_object\n",
    "only_object = cv2.inRange(image, low_color,  high_color)\n",
    "# вывод отф only_object)\n",
    "cv2_imshow(only_object)"
   ]
  },
  {
   "cell_type": "markdown",
   "metadata": {
    "id": "WbQIjVF1lzvv"
   },
   "source": [
    "ЗАДАНИЕ 7\n",
    "1. Загрузите изображения с дорожными знаками из предыдущего \n",
    "задания и подберите параметры color_low, color_high для \n",
    "выделения одного из знаков или каких-либо ярких объектов."
   ]
  },
  {
   "cell_type": "code",
   "execution_count": null,
   "metadata": {},
   "outputs": [],
   "source": [
    "# добавляем необходимый пакет с opencv\n",
    "import cv2\n",
    "from google.colab.patches import cv2_imshow\n",
    "# загружаем изображение\n",
    "image = cv2.imread(r\"/content/DorZnak1.jpg\")\n",
    "cv2_imshow( image)\n",
    "hsv_img = cv2.cvtColor(image, cv2.COLOR_BGR2HSV)\n",
    "# нижняя граница — это темный ненасыщенный цвет\n",
    "color_low = (50,160,160)\n",
    "# верхняя граница — это яркий насыщенный цвет\n",
    "color_high = (245,255,255)\n",
    "# наложение цветовой маски на HSV-изображение,\n",
    "# результат присваиваем переменной only_object\n",
    "only_object = cv2.inRange(hsv_img, color_low,  color_high)\n",
    "# вывод отфильтрованного изображения на экран\n",
    "cv2_imshow( only_object)"
   ]
  },
  {
   "cell_type": "markdown",
   "metadata": {
    "id": "2SVTb8_-_Of_"
   },
   "source": [
    "Задание 8\n",
    "1. Измените размер отображаемого кадра, используя функцию \n",
    "cv2.resize().\n",
    "2. Выполните зеркальное отражение кадра с помощью функции \n",
    "cv2.fl ip().\n"
   ]
  },
  {
   "cell_type": "code",
   "execution_count": null,
   "metadata": {},
   "outputs": [],
   "source": [
    "import cv2\n",
    "from google.colab.patches import cv2_imshow\n",
    "# связываем файл video.avi с переменной capImg\n",
    "capImg = cv2.VideoCapture('DorZn.avi')\n",
    "# открываем в цикле файл\n",
    "while(capImg.isOpened()):\n",
    "# получаем кадр из видеопотока файла\n",
    "# кадры по очереди считываются в переменную frame\n",
    "   ret, frame = capImg.read()\n",
    "# если кадры закончились\n",
    "   if frame is None:\n",
    "      break # прерываем работу цикла\n",
    "   res = cv2.resize(frame, (int(frame.shape[1] / 2), int(frame.shape[0] / 2)),  interpolation = cv2.INTER_AREA)\n",
    "   flipped = cv2.flip(res,1)\n",
    "   cv2_imshow(flipped)\n",
    "# организуем выход из цикла по нажатию клавиши,\n",
    "# ждем 30 миллисекунд нажатия, записываем код нажатой клавиши\n",
    "   key_press = cv2.waitKey(30)\n",
    "# если код нажатой клавиши совпадает с кодом «q»,\n",
    "   if key_press == ord('q'):\n",
    "      break # то прервать цикл while\n",
    "# освобождаем память от переменной capImg\n",
    "capImg.release()\n",
    "# закрываем все окна opencv\n",
    "cv2.destroyAllWindows()"
   ]
  },
  {
   "cell_type": "markdown",
   "metadata": {
    "id": "ExK_Gyv73Xtf"
   },
   "source": [
    "ЗАДАНИЕ 8\n",
    "\n",
    "Подберите границы цветовых диапазонов для поиска объектов \n",
    "других цветов (красный, желтый, зеленый и т. д.) на видео."
   ]
  },
  {
   "cell_type": "code",
   "execution_count": null,
   "metadata": {},
   "outputs": [],
   "source": [
    "# подключение библиотеки numpy\n",
    "# под именем np\n",
    "import numpy as np\n",
    "# подключение библиотеки opencv\n",
    "import cv2\n",
    "from google.colab.patches import cv2_imshow\n",
    "# связываем видеопоток файла video.avi с переменной\n",
    "# capImg\n",
    "capImg = cv2.VideoCapture('DorZn.avi')\n",
    "# открываем файл с видео\n",
    "while(capImg.isOpened()):\n",
    "# получаем кадр из видеопотока файла,\n",
    "# кадры по очереди считываются в переменную frame\n",
    " ret, frame = capImg.read()\n",
    "# если кадры закончились, то прерываем цикл\n",
    " if frame is None:\n",
    "    break\n",
    "# переводим кадр в цветовое HSV-пространство\n",
    " frame_hsv = cv2.cvtColor(frame,\n",
    " cv2.COLOR_BGR2HSV)\n",
    "# делаем вырезку области кадра, где ожидается\n",
    "# объект\n",
    " crop_frame = frame[60:270, 30:750]\n",
    " crop_frame_hsv = frame_hsv[60:270, 30:750]\n",
    "# задаем нижнюю и верхнюю границы цветового фильтра\n",
    "# с помощью массивов numpy\n",
    "# цвет 0...180,\n",
    "# насыщенность 0 – блеклый, 255 - насыщенный\n",
    "# яркость 0 – темный, 255 - светлый\n",
    " low_Blue = np.array([130, 130, 30],\n",
    " dtype = \"uint8\")\n",
    " high_Blue = np.array([200, 200, 255],\n",
    " dtype = \"uint8\")\n",
    "# применяем маску по цвету к фрагменту кадра\n",
    " blue_mask = cv2.inRange(crop_frame_hsv, low_Blue,\n",
    " high_Blue)\n",
    "# показываем области кадров с объектом\n",
    "# в окне video_mask результат наложения маски,\n",
    " cv2_imshow( blue_mask)\n",
    "# в окне video_frame вырезку из кадра\n",
    " cv2_imshow(crop_frame)\n",
    "# организуем выход из цикла по нажатию клавиши\n",
    "# ждем 30 миллисекунд нажатия, записываем код\n",
    "# нажатой клавиши\n",
    " key_press = cv2.waitKey(30)\n",
    "# если код нажатой клавиши совпадает с кодом «q»,\n",
    " if key_press == ord('q'):\n",
    "    break\n",
    "# освобождаем память от переменной capImg\n",
    "capImg.release()\n",
    "# закрываем все окна opencv\n",
    "cv2.destroyAllWindows()"
   ]
  },
  {
   "cell_type": "markdown",
   "metadata": {
    "id": "h4UDAwjI_Uhm"
   },
   "source": [
    "Задание 9\n",
    "1. Меняя в функции cv2.drawContours() параметры\n",
    "contoursIdx, color, thickness (3, 4 и 5-й аргументы \n",
    "по счету соответственно), выведите на экран по отдельности \n",
    "внешний и внутренний контуры, измените цвет контура и тол\u0002щину линий контура.\n",
    "2. Подготовьте с помощью редактора Paint изображение с несколькими объектами, окрашивая их в различные цвета. Подбирая \n",
    "параметры цветового фильтра, выведите на экран поочередно \n",
    "все контуры каждого объекта."
   ]
  },
  {
   "cell_type": "code",
   "execution_count": null,
   "metadata": {},
   "outputs": [],
   "source": [
    "# подключение библиотеки numpy\n",
    "import numpy as np\n",
    "# подключение библиотеки opencv\n",
    "import cv2\n",
    "from google.colab.patches import cv2_imshow\n",
    "import copy\n",
    "# задаем путь к файлу с картинкой, если файл с картинкой и файл с программой находятся  в одной папке, то это будет просто имя графического  файла\n",
    "fileName = 'Orang.jpg'\n",
    "# считываем данные графического файла в переменную  image\n",
    "image = cv2.imread(fileName)\n",
    "# конвертируем исходное изображение в цветовую модель  HSV и результат записываем в переменную hsv_img\n",
    "hsv_img = cv2.cvtColor( image, cv2.COLOR_BGR2HSV )\n",
    "# подбираем параметры цветового фильтра для выделения  нашего объекта (указанные числовые значения могут отличаться)\n",
    "hsv_min = np.array((2, 28, 65), np.uint8)\n",
    "hsv_max = np.array((26, 238, 255), np.uint8)\n",
    "# применяем цветовой фильтр к исходному изображению, результат записываем в переменную hsv_msk\n",
    "hsv_msk = cv2.inRange( hsv_img, hsv_min, hsv_max )\n",
    "# ищем контуры и записываем их в переменную contours  в режиме поиска всех контуров без группировки cv2.RETR_LIST\n",
    "# для хранения контуров используем # метод cv2.CHAIN_APPROX_SIMPLE\n",
    "contours, hierarchy = cv2.findContours( hsv_msk, cv2.RETR_LIST,  cv2.CHAIN_APPROX_SIMPLE)\n",
    "# отображаем все контуры поверх исходного изображения, цвет синий, толщина линии 3, сглаженная\n",
    "image2 = copy.deepcopy(image)\n",
    "\n",
    "cv2.drawContours( image, contours, 1, (255,0,0),  10, cv2.LINE_AA, hierarchy, 2)\n",
    "cv2_imshow(image)\n",
    "cv2.drawContours( image2, contours, 0, (255,0,0),  1, cv2.LINE_AA, hierarchy, 2)\n",
    "cv2_imshow(image2)\n",
    "\n",
    "# выводим итоговое изображение в окно contours\n"
   ]
  },
  {
   "cell_type": "markdown",
   "metadata": {
    "id": "Yj4Bs0tjRoer"
   },
   "source": [
    "ЗАДАНИЕ 10\n",
    "1. Используя этот же рисунок, выполните фильтрацию контуров \n",
    "объектов желтого цвета и выведите в окне контур самого боль\u0002шого объекта.\n",
    "2. Применяя наложение суммы масок, выделите из рисунка кон\u0002туры объектов различных цветов, например красных и желтых \n",
    "объектов с отсевом мелких контуров и т. д"
   ]
  },
  {
   "cell_type": "code",
   "execution_count": 1,
   "metadata": {},
   "outputs": [
    {
     "ename": "ModuleNotFoundError",
     "evalue": "No module named 'cv2'",
     "output_type": "error",
     "traceback": [
      "\u001b[0;31m---------------------------------------------------------------------------\u001b[0m",
      "\u001b[0;31mModuleNotFoundError\u001b[0m                       Traceback (most recent call last)",
      "Cell \u001b[0;32mIn[1], line 4\u001b[0m\n\u001b[1;32m      2\u001b[0m \u001b[38;5;28;01mimport\u001b[39;00m \u001b[38;5;21;01mnumpy\u001b[39;00m \u001b[38;5;28;01mas\u001b[39;00m \u001b[38;5;21;01mnp\u001b[39;00m\n\u001b[1;32m      3\u001b[0m \u001b[38;5;66;03m# подключение библиотеки opencv\u001b[39;00m\n\u001b[0;32m----> 4\u001b[0m \u001b[38;5;28;01mimport\u001b[39;00m \u001b[38;5;21;01mcv2\u001b[39;00m\n\u001b[1;32m      5\u001b[0m \u001b[38;5;28;01mfrom\u001b[39;00m \u001b[38;5;21;01mgoogle\u001b[39;00m\u001b[38;5;21;01m.\u001b[39;00m\u001b[38;5;21;01mcolab\u001b[39;00m\u001b[38;5;21;01m.\u001b[39;00m\u001b[38;5;21;01mpatches\u001b[39;00m \u001b[38;5;28;01mimport\u001b[39;00m cv2_imshow\n\u001b[1;32m      6\u001b[0m \u001b[38;5;66;03m# задаем путь к файлу с картинкой, если файл с картинкой и файл с программой находятся  в одной папке, то это будет просто имя графического файла\u001b[39;00m\n",
      "\u001b[0;31mModuleNotFoundError\u001b[0m: No module named 'cv2'"
     ]
    }
   ],
   "source": [
    "# подключение библиотеки numpy\n",
    "import numpy as np\n",
    "# подключение библиотеки opencv\n",
    "import cv2\n",
    "from google.colab.patches import cv2_imshow\n",
    "# задаем путь к файлу с картинкой, если файл с картинкой и файл с программой находятся  в одной папке, то это будет просто имя графического файла\n",
    "fileName = 'Naturmort.jpg'\n",
    "# считываем данные графического файла в переменную\n",
    "# image\n",
    "image = cv2.imread(fileName)\n",
    "# конвертируем исходное изображение в цветовую модель\n",
    "# HSV,\n",
    "# результат записываем в переменную hsv_img\n",
    "hsv_img = cv2.cvtColor( image, cv2.COLOR_BGR2HSV )\n",
    "# подбираем параметры цветового фильтра для выделения\n",
    "# нашего объекта (указанные числовые значения могут\n",
    "# отличаться)\n",
    "hsv_min = np.array((23, 170, 250), np.uint8)\n",
    "hsv_max = np.array((255, 255, 255), np.uint8)\n",
    "# применяем цветовой фильтр к исходному изображению,\n",
    "# результат записываем в переменную hsv_msk\n",
    "hsv_msk = cv2.inRange( hsv_img, hsv_min, hsv_max )\n",
    "# ищем контуры и записываем их в переменную contours\n",
    "# в режиме поиска всех контуров без группировки\n",
    "# cv2.RETR_LIST, для хранения контуров используем\n",
    "# метод cv2.CHAIN_APPROX_SIMPLE\n",
    "contours, hierarchy = cv2.findContours( hsv_msk,  cv2.RETR_LIST,  cv2.CHAIN_APPROX_SIMPLE)\n",
    "# перебираем все найденные контуры в цикле\n",
    "for icontour in contours:\n",
    "# ищем прямоугольник, результат записываем в rect\n",
    " rect = cv2.minAreaRect(icontour)\n",
    "# !!Вот здесь вставляются указанные выше две строки!!\n",
    "# вычисление площади\n",
    " area = int(rect[1][0]*rect[1][1])\n",
    "# если площадь больше указанного значения, эти\n",
    "# контуры выводим,\n",
    "# значение подбираем экспериментально\n",
    " if area > 1000:\n",
    "# поиск вершин прямоугольника, результат записываем\n",
    "# в box\n",
    "    box = cv2.boxPoints(rect)\n",
    "# округление координат вершин, результат\n",
    "# записываем в box\n",
    "    box = np.int0(box)\n",
    "# рисуем прямоугольник поверх исходного\n",
    "# изображения, цвет синий, толщина линии 3,\n",
    "# поскольку рисуем единственный объект [box],\n",
    "# остальные параметры опускаем\n",
    "    cv2.drawContours( image, [box], -1,  (0,0,0),3)\n",
    "# выводим итоговое изображение\n",
    "cv2_imshow(image)"
   ]
  },
  {
   "cell_type": "markdown",
   "metadata": {
    "id": "l7qWDN5QJHlH"
   },
   "source": [
    "Задание 11\n",
    "\n",
    "В программе более верно подобрать значения цветов для определения дорожных знаков и обвести их контуром."
   ]
  },
  {
   "cell_type": "code",
   "execution_count": null,
   "metadata": {},
   "outputs": [],
   "source": []
  }
 ],
 "metadata": {
  "colab": {
   "provenance": []
  },
  "kernelspec": {
   "display_name": "Python 3 (ipykernel)",
   "language": "python",
   "name": "python3"
  },
  "language_info": {
   "codemirror_mode": {
    "name": "ipython",
    "version": 3
   },
   "file_extension": ".py",
   "mimetype": "text/x-python",
   "name": "python",
   "nbconvert_exporter": "python",
   "pygments_lexer": "ipython3",
   "version": "3.12.7"
  }
 },
 "nbformat": 4,
 "nbformat_minor": 4
}
