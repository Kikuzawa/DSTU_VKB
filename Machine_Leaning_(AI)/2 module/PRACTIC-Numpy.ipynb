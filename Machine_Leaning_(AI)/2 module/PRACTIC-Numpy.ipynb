{
 "cells": [
  {
   "cell_type": "markdown",
   "id": "affca914-5d9e-4b4d-a9b1-5c4618079eb0",
   "metadata": {},
   "source": [
    "1. Найти индексы ненулевых элементов в заданном массиве."
   ]
  },
  {
   "cell_type": "code",
   "execution_count": 51,
   "id": "0cdba0ae-b8cc-4005-95fc-c40bc7b7fb81",
   "metadata": {},
   "outputs": [
    {
     "name": "stdout",
     "output_type": "stream",
     "text": [
      "(array([1, 3, 5], dtype=int64),)\n"
     ]
    }
   ],
   "source": [
    "import numpy as np\n",
    "\n",
    "# Create a sample array\n",
    "arr = np.array([0, 1, 0, 2, 0, 3])\n",
    "\n",
    "# Find indices of non-zero elements\n",
    "nonzero_indices = np.nonzero(arr)\n",
    "print(nonzero_indices)\n"
   ]
  },
  {
   "cell_type": "markdown",
   "id": "8a73f8e7-ae74-46cf-8a6c-2029c0df654c",
   "metadata": {},
   "source": [
    "2. Создать nxn единичную матрицу."
   ]
  },
  {
   "cell_type": "code",
   "execution_count": 52,
   "id": "2e84109b-45fa-40c7-a8a3-f599fa9d18c8",
   "metadata": {},
   "outputs": [
    {
     "name": "stdout",
     "output_type": "stream",
     "text": [
      "[[1. 0. 0. 0. 0.]\n",
      " [0. 1. 0. 0. 0.]\n",
      " [0. 0. 1. 0. 0.]\n",
      " [0. 0. 0. 1. 0.]\n",
      " [0. 0. 0. 0. 1.]]\n"
     ]
    }
   ],
   "source": [
    "import numpy as np\n",
    "\n",
    "n = 5\n",
    "identity_matrix = np.eye(n)\n",
    "print(identity_matrix)\n"
   ]
  },
  {
   "cell_type": "markdown",
   "id": "4e79c0d8-b511-4fe6-8da6-6c16bef45256",
   "metadata": {},
   "source": [
    "3. Создать массив nxnxn со случайными значениями"
   ]
  },
  {
   "cell_type": "code",
   "execution_count": 53,
   "id": "3f50ce5a-1587-4a25-bae1-63444aebaf95",
   "metadata": {},
   "outputs": [
    {
     "name": "stdout",
     "output_type": "stream",
     "text": [
      "[[[0.59662839 0.40521865 0.01762587 0.8082398  0.6336201 ]\n",
      "  [0.53488516 0.1447378  0.34900244 0.33798007 0.38972253]\n",
      "  [0.68158992 0.20834471 0.22251421 0.05719672 0.71860526]\n",
      "  [0.68916274 0.12753055 0.51468742 0.97668178 0.63071199]\n",
      "  [0.75899829 0.3094469  0.70941023 0.18571007 0.64572073]]\n",
      "\n",
      " [[0.24471596 0.10785131 0.50522127 0.82132481 0.81413597]\n",
      "  [0.76862675 0.39370185 0.24031685 0.88365374 0.74222589]\n",
      "  [0.54505026 0.88157988 0.72031771 0.26378776 0.24111168]\n",
      "  [0.7022601  0.51155875 0.46990129 0.45023799 0.6742755 ]\n",
      "  [0.20029199 0.39492883 0.74232632 0.93162999 0.77617946]]\n",
      "\n",
      " [[0.67357169 0.80069946 0.14584456 0.98136716 0.17590069]\n",
      "  [0.52733644 0.18740073 0.55768738 0.93627958 0.91402775]\n",
      "  [0.63903374 0.62512364 0.86533181 0.06709066 0.89733815]\n",
      "  [0.36732702 0.53117056 0.57100604 0.11240344 0.56391247]\n",
      "  [0.30408734 0.5578782  0.58756132 0.17468679 0.05384105]]\n",
      "\n",
      " [[0.46531626 0.37851738 0.70366329 0.58101858 0.35879387]\n",
      "  [0.96979613 0.86529253 0.09084228 0.79842476 0.36905476]\n",
      "  [0.08252323 0.05245529 0.08917648 0.99633309 0.57516023]\n",
      "  [0.29865395 0.12406264 0.4609223  0.60583816 0.22922691]\n",
      "  [0.58700849 0.4481751  0.55125155 0.55508495 0.10368773]]\n",
      "\n",
      " [[0.30757218 0.86202497 0.151165   0.61749761 0.03653319]\n",
      "  [0.53869175 0.65750801 0.24166139 0.16933443 0.0283883 ]\n",
      "  [0.52664722 0.69775609 0.25781552 0.61459599 0.41091169]\n",
      "  [0.75764143 0.48042957 0.3796866  0.20993595 0.77334542]\n",
      "  [0.10133537 0.81494657 0.57831292 0.66449665 0.58261715]]]\n"
     ]
    }
   ],
   "source": [
    "import numpy as np\n",
    "\n",
    "n = 5\n",
    "random_3d_array = np.random.rand(n, n, n)\n",
    "print(random_3d_array)\n"
   ]
  },
  {
   "cell_type": "markdown",
   "id": "f441d069-5fb1-48a6-8830-09377108500f",
   "metadata": {},
   "source": [
    "4. Создать вектор (одномерный массив) размера n, заполненный нулями"
   ]
  },
  {
   "cell_type": "code",
   "execution_count": 54,
   "id": "fac24265-42b9-43a2-906b-93ae47d3d109",
   "metadata": {},
   "outputs": [
    {
     "name": "stdout",
     "output_type": "stream",
     "text": [
      "[0. 0. 0. 0. 0. 0.]\n"
     ]
    }
   ],
   "source": [
    "import numpy as np\n",
    "\n",
    "n = 6\n",
    "zero_vector = np.zeros(n)\n",
    "print(zero_vector)"
   ]
  },
  {
   "cell_type": "markdown",
   "id": "33dda743-3d42-4a80-ba62-93da8bf08748",
   "metadata": {},
   "source": [
    "5. Создать вектор размера 1n, заполненный нулями, но пятый элемент равен 1"
   ]
  },
  {
   "cell_type": "code",
   "execution_count": 55,
   "id": "fc0717de-3bec-4215-bd35-297197251d9b",
   "metadata": {},
   "outputs": [
    {
     "name": "stdout",
     "output_type": "stream",
     "text": [
      "[0. 0. 0. 0. 1. 0. 0. 0. 0. 0.]\n"
     ]
    }
   ],
   "source": [
    "import numpy as np\n",
    "\n",
    "n = 10\n",
    "vector_with_one = np.zeros(n)\n",
    "vector_with_one[4] = 1\n",
    "print(vector_with_one)\n"
   ]
  },
  {
   "cell_type": "markdown",
   "id": "883b0e91-e85a-4b11-a185-6fbdb68dd50f",
   "metadata": {},
   "source": [
    "6. Создать вектор со значениями от n до m"
   ]
  },
  {
   "cell_type": "code",
   "execution_count": 57,
   "id": "c1951373-acd0-4d0c-b028-a21d64fde938",
   "metadata": {},
   "outputs": [
    {
     "name": "stdout",
     "output_type": "stream",
     "text": [
      "[ 1  2  3  4  5  6  7  8  9 10 11 12 13 14 15]\n"
     ]
    }
   ],
   "source": [
    "import numpy as np\n",
    "\n",
    "n = 1\n",
    "m = 16\n",
    "vector_range = np.arange(n, m)\n",
    "print(vector_range)\n"
   ]
  },
  {
   "cell_type": "markdown",
   "id": "0969ff72-4516-4e13-9444-02249beb8820",
   "metadata": {},
   "source": [
    "7. Развернуть одномерный массив (первый становится последним)"
   ]
  },
  {
   "cell_type": "code",
   "execution_count": 58,
   "id": "4a9138b5-5795-4c7f-ad6e-21e18ff8c781",
   "metadata": {},
   "outputs": [
    {
     "name": "stdout",
     "output_type": "stream",
     "text": [
      "[5 4 3 2 1]\n"
     ]
    }
   ],
   "source": [
    "import numpy as np\n",
    "\n",
    "arr = np.array([1, 2, 3, 4, 5])\n",
    "reversed_arr = arr[::-1]\n",
    "print(reversed_arr)\n"
   ]
  },
  {
   "cell_type": "markdown",
   "id": "34fbc016-3f1b-4160-b149-8ce9441ad283",
   "metadata": {},
   "source": [
    "8. Создать матрицу с 0 внутри, и 1 на границах"
   ]
  },
  {
   "cell_type": "code",
   "execution_count": 59,
   "id": "38eee9fe-4453-4468-9ece-bd6cd5ca7191",
   "metadata": {},
   "outputs": [
    {
     "name": "stdout",
     "output_type": "stream",
     "text": [
      "[[1. 1. 1. 1. 1. 1. 1. 1. 1. 1.]\n",
      " [1. 0. 0. 0. 0. 0. 0. 0. 0. 1.]\n",
      " [1. 0. 0. 0. 0. 0. 0. 0. 0. 1.]\n",
      " [1. 0. 0. 0. 0. 0. 0. 0. 0. 1.]\n",
      " [1. 0. 0. 0. 0. 0. 0. 0. 0. 1.]\n",
      " [1. 0. 0. 0. 0. 0. 0. 0. 0. 1.]\n",
      " [1. 0. 0. 0. 0. 0. 0. 0. 0. 1.]\n",
      " [1. 0. 0. 0. 0. 0. 0. 0. 0. 1.]\n",
      " [1. 0. 0. 0. 0. 0. 0. 0. 0. 1.]\n",
      " [1. 1. 1. 1. 1. 1. 1. 1. 1. 1.]]\n"
     ]
    }
   ],
   "source": [
    "import numpy as np\n",
    "\n",
    "n = 10\n",
    "matrix = np.zeros((n, n))\n",
    "matrix[0, :] = 1\n",
    "matrix[-1, :] = 1\n",
    "matrix[:, 0] = 1\n",
    "matrix[:, -1] = 1\n",
    "print(matrix)\n"
   ]
  },
  {
   "cell_type": "markdown",
   "id": "4b07ee58-6c15-4436-a6ad-af5606031aad",
   "metadata": {},
   "source": [
    "9. Создать nxn матрицу и заполнить её в шахматном порядке"
   ]
  },
  {
   "cell_type": "code",
   "execution_count": 60,
   "id": "90235ddc-3f66-4888-97dd-6c72f1cfe2ad",
   "metadata": {},
   "outputs": [
    {
     "name": "stdout",
     "output_type": "stream",
     "text": [
      "[[0. 1. 0. 1.]\n",
      " [1. 0. 1. 0.]\n",
      " [0. 1. 0. 1.]\n",
      " [1. 0. 1. 0.]]\n"
     ]
    }
   ],
   "source": [
    "import numpy as np\n",
    "\n",
    "n = 4\n",
    "matrix = np.zeros((n, n))\n",
    "for i in range(n):\n",
    "    for j in range(n):\n",
    "        matrix[i][j] = (i + j) % 2\n",
    "print(matrix)\n"
   ]
  },
  {
   "cell_type": "markdown",
   "id": "0357c0f4-b729-4ed8-850e-446f8711c764",
   "metadata": {},
   "source": [
    "10. Заменить максимальный элемент на ноль"
   ]
  },
  {
   "cell_type": "code",
   "execution_count": 61,
   "id": "5c3eedc5-ead8-4276-bef0-dd633beef58f",
   "metadata": {},
   "outputs": [
    {
     "name": "stdout",
     "output_type": "stream",
     "text": [
      "[1 2 3 4 0]\n"
     ]
    }
   ],
   "source": [
    "import numpy as np\n",
    "\n",
    "arr = np.array([1, 2, 3, 4, 99])\n",
    "max_index = np.argmax(arr)\n",
    "arr[max_index] = 0\n",
    "print(arr)\n"
   ]
  },
  {
   "cell_type": "markdown",
   "id": "a000e070-097c-4fbe-b382-1e08485ebe1e",
   "metadata": {},
   "source": [
    "11. Найти ближайшее к заданному значению число в заданном массиве"
   ]
  },
  {
   "cell_type": "code",
   "execution_count": 62,
   "id": "ff758b5a-471a-4ef0-a147-90a855f9e58c",
   "metadata": {},
   "outputs": [
    {
     "name": "stdout",
     "output_type": "stream",
     "text": [
      "3\n"
     ]
    }
   ],
   "source": [
    "import numpy as np\n",
    "\n",
    "arr = np.array([1, 2, 3, 4, 5])\n",
    "target = 3.1\n",
    "closest = np.argmin(np.abs(arr - target))\n",
    "print(arr[closest])\n"
   ]
  },
  {
   "cell_type": "markdown",
   "id": "788a1c51-302c-4efc-8c03-ec50411dd436",
   "metadata": {},
   "source": [
    "12. Дан четырехмерный массив, посчитать сумму по последним двум осям"
   ]
  },
  {
   "cell_type": "code",
   "execution_count": 64,
   "id": "33892e7c-b3b4-4be9-8d66-548fe546f353",
   "metadata": {},
   "outputs": [
    {
     "name": "stdout",
     "output_type": "stream",
     "text": [
      "array:\n",
      " [[[[0.37987053 0.43639893]\n",
      "   [0.30766554 0.19364447]]\n",
      "\n",
      "  [[0.00656356 0.68369857]\n",
      "   [0.99065916 0.35130412]]]\n",
      "\n",
      "\n",
      " [[[0.10915799 0.6217643 ]\n",
      "   [0.46318169 0.89012436]]\n",
      "\n",
      "  [[0.84702701 0.57759622]\n",
      "   [0.91480498 0.88994656]]]] \n",
      "\n",
      "[[1.31757947 2.0322254 ]\n",
      " [2.08422834 3.22937477]]\n"
     ]
    }
   ],
   "source": [
    "import numpy as np\n",
    "\n",
    "array = np.random.rand(2, 2, 2, 2)\n",
    "sum_last_two_axes = np.sum(array, axis=(2, 3))\n",
    "print(\"array:\\n\", array,\"\\n\")\n",
    "print(sum_last_two_axes)\n"
   ]
  },
  {
   "cell_type": "markdown",
   "id": "27870349-1551-42cd-ae4e-a85fe0ec43ed",
   "metadata": {},
   "source": [
    "13. Определить, есть ли в двумерном массиве нулевые столбцы"
   ]
  },
  {
   "cell_type": "code",
   "execution_count": 65,
   "id": "8db358e5-7d4c-4ad1-8c1f-53339519d200",
   "metadata": {},
   "outputs": [
    {
     "name": "stdout",
     "output_type": "stream",
     "text": [
      "[False  True False]\n"
     ]
    }
   ],
   "source": [
    "import numpy as np\n",
    "\n",
    "array = np.array([[1, 0, 2], [3, 0, 5]])\n",
    "has_zero_columns = np.any(array == 0, axis=0)\n",
    "print(has_zero_columns)\n"
   ]
  },
  {
   "cell_type": "markdown",
   "id": "11eb4a0d-f32a-4e95-a460-bfa7ed7c7a4e",
   "metadata": {},
   "source": [
    "14. Отнять среднее из каждой строки в матрице"
   ]
  },
  {
   "cell_type": "code",
   "execution_count": 66,
   "id": "09e5c3ea-c6e3-420e-8eae-624647c83e42",
   "metadata": {},
   "outputs": [
    {
     "name": "stdout",
     "output_type": "stream",
     "text": [
      "[[-0.5  0.5]\n",
      " [-0.5  0.5]]\n",
      "Mean:\n",
      " [[1.5]\n",
      " [3.5]]\n"
     ]
    }
   ],
   "source": [
    "import numpy as np\n",
    "\n",
    "matrix = np.array([[1, 2], [3, 4]])\n",
    "mean_subtracted = matrix - matrix.mean(axis=1)[:, np.newaxis]\n",
    "print(mean_subtracted)\n",
    "print(\"Mean:\\n\",matrix.mean(axis=1)[:, np.newaxis])\n"
   ]
  },
  {
   "cell_type": "markdown",
   "id": "5469ca16-262b-4bfe-aa2c-d8304423309b",
   "metadata": {},
   "source": [
    "15. Создайте вектор с элементами от 10 до 50"
   ]
  },
  {
   "cell_type": "code",
   "execution_count": 67,
   "id": "eceaeb51-626e-41e9-81cd-14f58dccb54c",
   "metadata": {},
   "outputs": [
    {
     "name": "stdout",
     "output_type": "stream",
     "text": [
      "[10 11 12 13 14 15 16 17 18 19 20 21 22 23 24 25 26 27 28 29 30 31 32 33\n",
      " 34 35 36 37 38 39 40 41 42 43 44 45 46 47 48 49 50]\n"
     ]
    }
   ],
   "source": [
    "import numpy as np\n",
    "\n",
    "vector = np.arange(10, 51)\n",
    "print(vector)\n"
   ]
  },
  {
   "cell_type": "markdown",
   "id": "7e3b0d6e-36e0-4b6c-b763-cf5a3f193d30",
   "metadata": {},
   "source": [
    "16. Создайте матрицу (5, 5), заполненую от 0 до 6"
   ]
  },
  {
   "cell_type": "code",
   "execution_count": 68,
   "id": "f6b4c353-f1e9-40d9-b24c-9910ae032c12",
   "metadata": {},
   "outputs": [
    {
     "name": "stdout",
     "output_type": "stream",
     "text": [
      "Матрица 5x5:\n",
      " [[0 6 4 4 1]\n",
      " [5 0 4 1 2]\n",
      " [5 4 5 1 5]\n",
      " [4 5 1 6 4]\n",
      " [5 5 4 4 1]]\n"
     ]
    }
   ],
   "source": [
    "import numpy as np\n",
    "\n",
    "\n",
    "matrix = np.random.randint(0, 7, (5, 5))\n",
    "print(\"Матрица 5x5:\\n\", matrix)\n"
   ]
  },
  {
   "cell_type": "markdown",
   "id": "183ed991-43ab-41da-bf4e-91e2d3843c80",
   "metadata": {},
   "source": [
    "17. Умножьте матрицу размерности (5, 3) на (3, 2)"
   ]
  },
  {
   "cell_type": "code",
   "execution_count": 69,
   "id": "a8ac0c63-7abc-4fef-ac1e-9cbcd20c52ed",
   "metadata": {},
   "outputs": [
    {
     "name": "stdout",
     "output_type": "stream",
     "text": [
      "matrix 1:\n",
      " [[0.00884402 0.19355032 0.2128765 ]\n",
      " [0.36129102 0.44976644 0.30253652]\n",
      " [0.73888277 0.94327773 0.17862306]\n",
      " [0.57269502 0.23261174 0.84628569]\n",
      " [0.29526495 0.19761029 0.16186661]]\n",
      "\n",
      " matrix 2:\n",
      " [[0.39937502 0.98109742]\n",
      " [0.45006695 0.77597408]\n",
      " [0.96328054 0.09834617]]\n",
      "\n",
      " [[0.29570248 0.17980246]\n",
      " [0.63814316 0.7332221 ]\n",
      " [0.89169357 1.47444194]\n",
      " [1.14862148 0.82559924]\n",
      " [0.36278226 0.45894311]]\n"
     ]
    }
   ],
   "source": [
    "import numpy as np\n",
    "\n",
    "matrix_53 = np.random.rand(5, 3)\n",
    "matrix_32 = np.random.rand(3, 2)\n",
    "result = np.dot(matrix_53, matrix_32)\n",
    "print(\"matrix 1:\\n\", matrix_53)\n",
    "print(\"\\n matrix 2:\\n\", matrix_32)\n",
    "print(\"\\n\",result)\n"
   ]
  },
  {
   "cell_type": "markdown",
   "id": "333908ec-1b05-44e8-b271-4f32e4b32d19",
   "metadata": {},
   "source": [
    "18. Создайте матрицу (10, 10) так, чтобы на границе были 0, а внтури 1"
   ]
  },
  {
   "cell_type": "code",
   "execution_count": 36,
   "id": "c18c531e-3949-4f4c-b643-c341d5e78320",
   "metadata": {},
   "outputs": [
    {
     "name": "stdout",
     "output_type": "stream",
     "text": [
      "[[0. 0. 0. 0. 0. 0. 0. 0. 0. 0.]\n",
      " [0. 1. 1. 1. 1. 1. 1. 1. 1. 0.]\n",
      " [0. 1. 1. 1. 1. 1. 1. 1. 1. 0.]\n",
      " [0. 1. 1. 1. 1. 1. 1. 1. 1. 0.]\n",
      " [0. 1. 1. 1. 1. 1. 1. 1. 1. 0.]\n",
      " [0. 1. 1. 1. 1. 1. 1. 1. 1. 0.]\n",
      " [0. 1. 1. 1. 1. 1. 1. 1. 1. 0.]\n",
      " [0. 1. 1. 1. 1. 1. 1. 1. 1. 0.]\n",
      " [0. 1. 1. 1. 1. 1. 1. 1. 1. 0.]\n",
      " [0. 0. 0. 0. 0. 0. 0. 0. 0. 0.]]\n"
     ]
    }
   ],
   "source": [
    "import numpy as np\n",
    "\n",
    "n = 10\n",
    "matrix = np.zeros((n, n))\n",
    "matrix[1:-1, 1:-1] = 1\n",
    "print(matrix)\n"
   ]
  },
  {
   "cell_type": "markdown",
   "id": "5e00e472-77d9-46ee-b20f-24f4754483a4",
   "metadata": {},
   "source": [
    "19. Для заданного числа найдите ближайший к нему элемент в векторе"
   ]
  },
  {
   "cell_type": "code",
   "execution_count": 70,
   "id": "68dc1559-4a07-4563-b056-fe9c4c4cf6c7",
   "metadata": {},
   "outputs": [
    {
     "name": "stdout",
     "output_type": "stream",
     "text": [
      "3\n"
     ]
    }
   ],
   "source": [
    "import numpy as np\n",
    "\n",
    "vector = np.array([1, 2, 3, 4, 5])\n",
    "target = 3.1\n",
    "closest_index = np.argmin(np.abs(vector - target))\n",
    "print(vector[closest_index])\n"
   ]
  },
  {
   "cell_type": "markdown",
   "id": "5f779f97-fa00-49e0-ac2f-31bb7d3b3e12",
   "metadata": {},
   "source": [
    "20. Дан трёхмерный массив \"Цветное изображение\", содержащий изображение, размера (height, width, numChannels), а также вектор коэффициентов длины numChannels. Сложить каналы изображения с указанными весами, и вернуть результат в виде матрицы размера (height, width). Реальное изображение не считываем, заполняем трехмерный массив случайными значениями. Преобразуйте цветное изображение в оттенки серого, использовав коэффициенты np.array([0.299, 0.587, 0.114])."
   ]
  },
  {
   "cell_type": "code",
   "execution_count": 71,
   "id": "c9dca013-6525-4e52-8084-182b0e198fcc",
   "metadata": {},
   "outputs": [
    {
     "name": "stdout",
     "output_type": "stream",
     "text": [
      "(100, 100)\n"
     ]
    }
   ],
   "source": [
    "import numpy as np\n",
    "\n",
    "\n",
    "height = 100\n",
    "width = 100\n",
    "num_channels = 3\n",
    "random_image = np.random.rand(height, width, num_channels)\n",
    "\n",
    "coefficients = np.array([0.299, 0.587, 0.114])\n",
    "\n",
    "\n",
    "grayscale_image = np.dot(random_image, coefficients)\n",
    "\n",
    "print(grayscale_image.shape)\n"
   ]
  },
  {
   "cell_type": "code",
   "execution_count": null,
   "id": "0471b25c-c0d1-4dc7-a3a9-f3be21a465c1",
   "metadata": {},
   "outputs": [],
   "source": []
  }
 ],
 "metadata": {
  "kernelspec": {
   "display_name": "Python 3 (ipykernel)",
   "language": "python",
   "name": "python3"
  },
  "language_info": {
   "codemirror_mode": {
    "name": "ipython",
    "version": 3
   },
   "file_extension": ".py",
   "mimetype": "text/x-python",
   "name": "python",
   "nbconvert_exporter": "python",
   "pygments_lexer": "ipython3",
   "version": "3.12.7"
  }
 },
 "nbformat": 4,
 "nbformat_minor": 5
}
