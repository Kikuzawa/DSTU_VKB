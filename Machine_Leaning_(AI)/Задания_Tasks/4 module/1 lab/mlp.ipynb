{
  "cells": [
    {
      "cell_type": "markdown",
      "metadata": {
        "id": "5q-_70BT5BLg"
      },
      "source": [
        "---"
      ]
    },
    {
      "cell_type": "markdown",
      "metadata": {
        "id": "s4wplUzDYJcx"
      },
      "source": [
        "#<h2 style=\"text-align: center;\"><b>Многослойная сеть на Keras</b></h3>"
      ]
    },
    {
      "cell_type": "markdown",
      "metadata": {
        "id": "X5sXCetw5BLy"
      },
      "source": [
        "---"
      ]
    },
    {
      "cell_type": "markdown",
      "metadata": {
        "id": "9xJnMEZrYJcz"
      },
      "source": [
        "##<h3 style=\"text-align: center;\"><b>Компоненты нейросети</b></h3>"
      ]
    },
    {
      "cell_type": "markdown",
      "metadata": {
        "id": "InwacmvIYJc0"
      },
      "source": [
        "Здесь самое время напомнить о том, какие вещи играют принципиальную роль в построении любой ***нейронной сети*** (все их мы задаём *руками*, самостоятельно):  \n",
        "\n",
        "- непосредственно, сама **архитектура** нейросети (сюда входят типы функций активации у каждого нейрона);\n",
        "- начальная **инициализация** весов каждого слоя;\n",
        "- метод **оптимизации** нейросети (сюда ещё входит метод изменения `learning_rate`);\n",
        "- размер **батчей** (`batch_size`);\n",
        "- количество итераций обучения (`num_epochs`);\n",
        "- **функция потерь** (`loss`);  \n",
        "- тип **регуляризации** нейросети (для каждого слоя можно свой);  \n",
        "\n",
        "То, что связано с ***данными и задачей***:  \n",
        "- само **качество** выборки (непротиворечивость, чистота, корректность постановки задачи);  \n",
        "- **размер** выборки;  "
      ]
    },
    {
      "cell_type": "markdown",
      "metadata": {
        "id": "tXujEOB0YJc1"
      },
      "source": [
        "##<h3 style=\"text-align: center;\"><b>Многослойная нейронная сеть</b></h3>"
      ]
    },
    {
      "cell_type": "markdown",
      "metadata": {
        "id": "mnxH-DajYJc3"
      },
      "source": [
        "Как можно понять из названия, многослойная нейросеть состоит из нескольких **слоёв**. Каждый слой состоит из **нейронов**. Ранее мы уже писали свой нейрон на NumPy, вот из таких нейронов и состоит ***MLP (Multi-Layer Perceptron)***. Ещё такую многослойную нейросеть, у которой каждый нейрон на предыдущем уровне соединён с нейроном на следующем уровне, называют ***Fully-Connected-сетью*** (или ***Dense-сетью***).  \n",
        "\n",
        "Расмотрим их устройство более подробно:"
      ]
    },
    {
      "cell_type": "markdown",
      "metadata": {
        "id": "onjJUneMYJc5"
      },
      "source": [
        "* Вот так выглядит двухслойная нейросеть (первый слой - input layer - не считается, потому что это, по сути, не слой):"
      ]
    },
    {
      "cell_type": "markdown",
      "metadata": {
        "id": "owRRulLzYJc6"
      },
      "source": [
        "<img src=\"http://cs231n.github.io/assets/nn1/neural_net.jpeg\" width=300, height=200>"
      ]
    },
    {
      "cell_type": "markdown",
      "metadata": {
        "id": "tFNxGGBEYJc8"
      },
      "source": [
        "* Так выглядит трёхслойная нейросеть:"
      ]
    },
    {
      "cell_type": "markdown",
      "metadata": {
        "id": "zRaKX35eYJc9"
      },
      "source": [
        "<img src=\"http://cs231n.github.io/assets/nn1/neural_net2.jpeg\" width=400, height=300>"
      ]
    },
    {
      "cell_type": "markdown",
      "metadata": {
        "id": "6w1FTkO1YJc-"
      },
      "source": [
        ".. и так далее для большего случая слоёв."
      ]
    },
    {
      "cell_type": "markdown",
      "metadata": {
        "id": "8iKV7m5YYJc_"
      },
      "source": [
        "**Обратите внимание:** связи есть у нейронов со слоя $L_{i-1}$  и нейронов $L_{i}$, но между нейронами в одном слое связей **нет**."
      ]
    },
    {
      "cell_type": "markdown",
      "metadata": {
        "id": "URV9qWkfYJdA"
      },
      "source": [
        "**Входной слой** -- это данные (матрица $(n, m)$)."
      ]
    },
    {
      "cell_type": "markdown",
      "metadata": {
        "id": "zK8tWuHHYJdB"
      },
      "source": [
        "Слои, которые не являются входными или выходными, называются **скрытыми слоями (hidden layers)**."
      ]
    },
    {
      "cell_type": "markdown",
      "metadata": {
        "id": "fz9clUlCYJdC"
      },
      "source": [
        "При решении ***задачи регрессии*** на **выходном слое** обычно один нейрон, который возвращает предсказанные числа (для каждого объекта по числу).  \n",
        "\n",
        "В случае ***задачи классификации*** на **выходном слое** обычно один нейрон, если задача бинарной классификации, и $K$ нейронов, если задача $K$-класовой классификации."
      ]
    },
    {
      "cell_type": "markdown",
      "metadata": {
        "id": "nJblXqY5YJdE"
      },
      "source": [
        "#### Forward pass в MLP"
      ]
    },
    {
      "cell_type": "markdown",
      "metadata": {
        "id": "D87xoAl8YJdF"
      },
      "source": [
        "Каждый слой многослойной нейросети - это матрица весов, столбцы которой -- это нейроны (один столбец - один нейрон). То есть один столбец -- это веса одного нейрона."
      ]
    },
    {
      "cell_type": "markdown",
      "metadata": {
        "collapsed": true,
        "id": "RyXUqCfVYJdG"
      },
      "source": [
        "Допустим, мы решаем задачу $K$-классовой классификации (на последнем слое $K$ нейронов). Рассмотрим, как в таком случае выглядит `forward_pass` нейросети:"
      ]
    },
    {
      "cell_type": "markdown",
      "metadata": {
        "id": "YO6gHbOjYJdH"
      },
      "source": [
        "* Вход: $$X =\n",
        "\\left(\n",
        "\\begin{matrix} \n",
        "x_{11} & ... & x_{1M} \\\\\n",
        "... & \\ddots  & ...\\\\\n",
        "x_{N1} & ... & x_{NM} \n",
        "\\end{matrix}\n",
        "\\right)\n",
        "$$\n",
        "\n",
        "-- матрица $(N, M)$"
      ]
    },
    {
      "cell_type": "markdown",
      "metadata": {
        "collapsed": true,
        "id": "XdImZiQkYJdI"
      },
      "source": [
        "* Структура сети - много слоёв, в слоях много нейронов. Первый слой (после входного) выглядит так:"
      ]
    },
    {
      "cell_type": "markdown",
      "metadata": {
        "id": "U2c2M4MJYJdJ"
      },
      "source": [
        "$$ W^1 =\n",
        "\\left(\n",
        "\\begin{matrix} \n",
        "w_{11} & ... & w_{1L_1} \\\\\n",
        "... & \\ddots  & ...\\\\\n",
        "w_{M1} & ... & w_{ML_1} \n",
        "\\end{matrix}\n",
        "\\right)\n",
        "$$\n",
        "\n",
        "-- матрица $(M, L_1)$"
      ]
    },
    {
      "cell_type": "markdown",
      "metadata": {
        "id": "UUCdeLN0YJdK"
      },
      "source": [
        "То есть это в точности $L_1$ нейронов, каждый имеет свои собственные веса, их $M$ штук."
      ]
    },
    {
      "cell_type": "markdown",
      "metadata": {
        "id": "ixHtlMwKYJdL"
      },
      "source": [
        "Мы помним, что нейрон - это линейное преобразование и потом нелинейная функция активации от этого преобразования. Однако в многослойных нейростеях часто отделяют `Linear` часть и `Activation`, то есть слоем считаем набор весов нейронов, а следующий слой всегда функция активации (у всех нейронов из слоя она одна и та же, обычно фреймворки не позволяют задавать конкретному нейрону в слое отличную от других нейронов в этом слое функцию активации, однако это легко сделать, объявив слой из одного нейрона)."
      ]
    },
    {
      "cell_type": "markdown",
      "metadata": {
        "id": "AUt1NgTvYJdN"
      },
      "source": [
        "* Другие слои выглядит точно так же, как первый слой. Например, второй слой будет такой:"
      ]
    },
    {
      "cell_type": "markdown",
      "metadata": {
        "id": "IdtSTvTmYJdN"
      },
      "source": [
        "$$ W^2 =\n",
        "\\left(\n",
        "\\begin{matrix} \n",
        "w_{11} & ... & w_{1L_2} \\\\\n",
        "... & \\ddots  & ...\\\\\n",
        "w_{L_11} & ... & w_{L_1L_2} \n",
        "\\end{matrix}\n",
        "\\right)\n",
        "$$\n",
        "\n",
        "-- матрица $(L_1, L_2)$"
      ]
    },
    {
      "cell_type": "markdown",
      "metadata": {
        "id": "R3nGnHoLYJdP"
      },
      "source": [
        "То есть это в точности $L_2$ нейронов, каждый имеет свои собственные веса, их $L_1$ штук."
      ]
    },
    {
      "cell_type": "markdown",
      "metadata": {
        "id": "bQhOAQjSYJdR"
      },
      "source": [
        "* Выходной слой:  \n",
        "\n",
        "Пусть в нейросети до выходного слоя идут $t$ слоёв. Тогда выходной слой имеет форму:"
      ]
    },
    {
      "cell_type": "markdown",
      "metadata": {
        "id": "fWvqm-K0YJdT"
      },
      "source": [
        "$$ W^{out} =\n",
        "\\left(\n",
        "\\begin{matrix} \n",
        "w_{11} & ... & w_{1K} \\\\\n",
        "... & \\ddots  & ...\\\\\n",
        "w_{L_t1} & ... & w_{L_tK} \n",
        "\\end{matrix}\n",
        "\\right)\n",
        "$$\n",
        "\n",
        "-- матрица $(L_t, K)$, где $L_t$ - количество нейронов в $t$-ом слое, а $K$ -- количество классов."
      ]
    },
    {
      "cell_type": "markdown",
      "metadata": {
        "id": "2z5tO89NYJdU"
      },
      "source": [
        "В итоге *для `forward_pass` нам нужно просто последовтельно перемножить матрицы друг за другом, применяя после каждого умножения соответсвующую функцию активации*."
      ]
    },
    {
      "cell_type": "markdown",
      "metadata": {
        "id": "IZT4GgsCYJdV"
      },
      "source": [
        "*Примечание*: можно думать об умножении на очередную матрицу весов как на переход в **новое признаковое пространство**. Действительно, когда подаём матрицу $X$ и умножаем на матрицу первого слоя, мы получаем матрицу размера $(N, L_1)$, то есть как будто $L_1$ \"новых\" признаков (построенных как линейная комбинация старых до применения функции активации, и уже как нелинейная комбинация после активации). Здесь уместно вспомнить, что Deep Learning является пообластью Representation Learning, то есть позволяет выучивает новые представляения данных."
      ]
    },
    {
      "cell_type": "markdown",
      "metadata": {
        "id": "4RhJ4fsHYJdW"
      },
      "source": [
        "**Backward pass в MLP**"
      ]
    },
    {
      "cell_type": "markdown",
      "metadata": {
        "id": "MYN043DbYJdX"
      },
      "source": [
        "Обучается с помощью метода \"Error Backpropagation\" - [\"Обратное распространение ошибки\"](https://ru.wikipedia.org/wiki/%D0%9C%D0%B5%D1%82%D0%BE%D0%B4_%D0%BE%D0%B1%D1%80%D0%B0%D1%82%D0%BD%D0%BE%D0%B3%D0%BE_%D1%80%D0%B0%D1%81%D0%BF%D1%80%D0%BE%D1%81%D1%82%D1%80%D0%B0%D0%BD%D0%B5%D0%BD%D0%B8%D1%8F_%D0%BE%D1%88%D0%B8%D0%B1%D0%BA%D0%B8), принцип распространения очень похож на то, как мы обучали один нейрон - это градиентный спуск, но по \"всей нейросети\" сразу.  "
      ]
    },
    {
      "cell_type": "markdown",
      "metadata": {
        "collapsed": true,
        "id": "oK7Vi4bxYJdZ"
      },
      "source": [
        "Backpropagation работает корректно благодаря ***chain rule*** (=правилу взятия производной сложной функции):  \n",
        "\n",
        "Если $f(x) = f(g(x))$, то:  \n",
        "\n",
        "$$\\frac{\\partial{f}}{\\partial{x}} = \\frac{\\partial{f}}{\\partial{g}} \\frac{\\partial{g}}{\\partial{x}}$$"
      ]
    },
    {
      "cell_type": "markdown",
      "metadata": {
        "collapsed": true,
        "id": "WKvMsaEBYJda"
      },
      "source": [
        "Более подробно про backpropagation можно прочитать здесь (на английском):  https://mattmazur.com/2015/03/17/a-step-by-step-backpropagation-example/"
      ]
    },
    {
      "cell_type": "markdown",
      "metadata": {
        "id": "9KrWarqTYJdf"
      },
      "source": [
        "#Создание двухслойной нейросети\n",
        "Cоздадим двухслойную нейросеть из 100 нейронов:"
      ]
    },
    {
      "cell_type": "code",
      "execution_count": null,
      "metadata": {
        "id": "bLjkPg19YJdg"
      },
      "outputs": [],
      "source": [
        "import matplotlib.pyplot as plt\n",
        "import numpy as np\n",
        "\n",
        "import keras"
      ]
    },
    {
      "cell_type": "markdown",
      "metadata": {
        "id": "iCDVRvQJYJdl"
      },
      "source": [
        "Генерация датасета:"
      ]
    },
    {
      "cell_type": "code",
      "execution_count": null,
      "metadata": {
        "id": "k0J27RcLYJdm"
      },
      "outputs": [],
      "source": [
        "N = 100\n",
        "D = 2\n",
        "K = 3\n",
        "X = np.zeros((N * K, D))\n",
        "y = np.zeros(N * K, dtype='uint8')\n",
        "\n",
        "for j in range(K):\n",
        "    ix = range(N * j,N * (j + 1))\n",
        "    r = np.linspace(0.0, 1, N)\n",
        "    t = np.linspace(j * 4, (j + 1) * 4,N) + np.random.randn(N) * 0.2 # theta\n",
        "    X[ix] = np.c_[r * np.sin(t), r * np.cos(t)]\n",
        "    y[ix] = j"
      ]
    },
    {
      "cell_type": "code",
      "source": [
        "plt.figure(figsize=(10, 8))\n",
        "plt.scatter(X[:, 0], X[:, 1], c=y, s=40, cmap=plt.cm.rainbow)\n",
        "plt.title('Спираль', fontsize=15)\n",
        "plt.xlabel('$x$', fontsize=14)\n",
        "plt.ylabel('$y$', fontsize=14)\n",
        "plt.show();"
      ],
      "metadata": {
        "colab": {
          "base_uri": "https://localhost:8080/",
          "height": 519
        },
        "id": "S5ivWMoy6hk6",
        "outputId": "9365a87a-942e-42d5-8939-b7e49078a19c"
      },
      "execution_count": null,
      "outputs": [
        {
          "output_type": "display_data",
          "data": {
            "text/plain": [
              "<Figure size 720x576 with 1 Axes>"
            ],
            "image/png": "[encoded data removed]"
          },
          "metadata": {
            "needs_background": "light"
          }
        }
      ]
    },
    {
      "cell_type": "code",
      "execution_count": null,
      "metadata": {
        "colab": {
          "base_uri": "https://localhost:8080/"
        },
        "id": "Who9mS8oYJdu",
        "outputId": "5c40f6ee-9a7c-4140-970b-364f95041845"
      },
      "outputs": [
        {
          "output_type": "stream",
          "name": "stdout",
          "text": [
            "(300, 2) (300,)\n"
          ]
        }
      ],
      "source": [
        "print(X.data.shape, y.data.shape)"
      ]
    },
    {
      "cell_type": "code",
      "source": [
        "y = keras.utils.to_categorical(y, 3)\n"
      ],
      "metadata": {
        "id": "rUp3hpPVvzMp"
      },
      "execution_count": null,
      "outputs": []
    },
    {
      "cell_type": "code",
      "source": [
        "from keras import optimizers\n",
        "two_layer_net=keras.models.Sequential()\n",
        "two_layer_net.add(keras.layers.Dense(100, input_shape=(X.shape[1],), activation='relu'))\n",
        "two_layer_net.add(keras.layers.Dense(3, activation='softmax'))\n",
        "print(two_layer_net.summary())\n"
      ],
      "metadata": {
        "colab": {
          "base_uri": "https://localhost:8080/"
        },
        "id": "dR12dyOh7zoD",
        "outputId": "143ad6bc-965d-4f69-ed9a-fcacd7cb2007"
      },
      "execution_count": null,
      "outputs": [
        {
          "output_type": "stream",
          "name": "stdout",
          "text": [
            "Model: \"sequential_1\"\n",
            "_________________________________________________________________\n",
            " Layer (type)                Output Shape              Param #   \n",
            "=================================================================\n",
            " dense (Dense)               (None, 100)               300       \n",
            "                                                                 \n",
            " dense_1 (Dense)             (None, 3)                 303       \n",
            "                                                                 \n",
            "=================================================================\n",
            "Total params: 603\n",
            "Trainable params: 603\n",
            "Non-trainable params: 0\n",
            "_________________________________________________________________\n",
            "None\n"
          ]
        }
      ]
    },
    {
      "cell_type": "code",
      "source": [
        "#визуализация модели\n",
        "from keras.utils.vis_utils import plot_model\n",
        "plot_model(two_layer_net, to_file='model_plot.png', show_shapes=True, show_layer_names=True)"
      ],
      "metadata": {
        "colab": {
          "base_uri": "https://localhost:8080/",
          "height": 312
        },
        "id": "JKIRE8YNClIT",
        "outputId": "eb8b8967-7908-4c27-ea40-30f57267e295"
      },
      "execution_count": null,
      "outputs": [
        {
          "output_type": "execute_result",
          "data": {
            "image/png": "[encoded data removed]",
            "text/plain": [
              "<IPython.core.display.Image object>"
            ]
          },
          "metadata": {},
          "execution_count": 7
        }
      ]
    },
    {
      "cell_type": "code",
      "source": [
        "sgd = optimizers.SGD(decay=1e-6, momentum=0.9, nesterov=True, learning_rate=0.01)\n",
        "two_layer_net.compile(loss='categorical_crossentropy', optimizer=sgd, metrics=['accuracy'])\n",
        "history=two_layer_net.fit(X, y, epochs=150, batch_size=64, verbose=0, validation_split=0.2)\n"
      ],
      "metadata": {
        "id": "hmKOymqmCEL4"
      },
      "execution_count": null,
      "outputs": []
    },
    {
      "cell_type": "code",
      "source": [
        "plt.plot(history.history['accuracy'])\n",
        "plt.title('Model accuracy')\n",
        "plt.ylabel('Accuracy')\n",
        "plt.xlabel('Epoch')\n",
        "#plt.legend(['train','test'])\n",
        "plt.show()"
      ],
      "metadata": {
        "id": "cBppMJAO9W2d",
        "colab": {
          "base_uri": "https://localhost:8080/",
          "height": 295
        },
        "outputId": "6d5470b6-22e7-4a26-edfc-b92d24e4df62"
      },
      "execution_count": null,
      "outputs": [
        {
          "output_type": "display_data",
          "data": {
            "text/plain": [
              "<Figure size 432x288 with 1 Axes>"
            ],
            "image/png": "[encoded data removed]"
          },
          "metadata": {
            "needs_background": "light"
          }
        }
      ]
    },
    {
      "cell_type": "markdown",
      "metadata": {
        "id": "G2wNgoh5YJeG"
      },
      "source": [
        "#Создание многослойной нейросети\n",
        "Усложним архитектуру нейронной сети прямого распрастронения:"
      ]
    },
    {
      "cell_type": "code",
      "execution_count": null,
      "metadata": {
        "id": "Oyg6rQ5R5BNn"
      },
      "outputs": [],
      "source": [
        "many_layer_net=keras.models.Sequential()\n",
        "two_layer_net.add(keras.layers.Dense(100, input_shape=(X.shape[1],), activation='relu'))\n",
        "two_layer_net.add(keras.layers.Dense(100, activation='relu'))\n",
        "two_layer_net.add(keras.layers.Dense(100, activation='relu'))\n",
        "two_layer_net.add(keras.layers.Dense(3, activation='softmax'))\n",
        "sgd = optimizers.SGD(decay=1e-6, momentum=0.9, nesterov=True, learning_rate=0.001)\n",
        "two_layer_net.compile(loss='categorical_crossentropy', optimizer=sgd, metrics=['accuracy'])\n",
        "history=two_layer_net.fit(X, y, epochs=150, batch_size=64, verbose=0, validation_split=0.2)\n"
      ]
    },
    {
      "cell_type": "code",
      "source": [
        "plt.plot(history.history['accuracy'])\n",
        "plt.title('Model accuracy')\n",
        "plt.ylabel('Accuracy')\n",
        "plt.xlabel('Epoch')\n",
        "plt.show()"
      ],
      "metadata": {
        "colab": {
          "base_uri": "https://localhost:8080/",
          "height": 295
        },
        "id": "ArqVDUJRiRRL",
        "outputId": "9e721f7f-7f19-434f-84d9-02628bd9f2af"
      },
      "execution_count": null,
      "outputs": [
        {
          "output_type": "display_data",
          "data": {
            "text/plain": [
              "<Figure size 432x288 with 1 Axes>"
            ],
            "image/png": "[encoded data removed]"
          },
          "metadata": {
            "needs_background": "light"
          }
        }
      ]
    },
    {
      "cell_type": "markdown",
      "source": [
        "#Задание 1\n",
        "1. Попробовать улучшить результат за счет изменения следующих параметров: скорость обучения, количество эпох, виды оптимизаторов, количество нейронов, количество слоев. Результаты анализа представить в виде графиков (диаграмм)\n",
        "2. Добавить слой (слои) Dropout (model.add(keras.layers.Dropout(0.5))), посмотреть как измениться результат\n",
        "3. Добавить слой нормализации (keras.layers.BatchNormalization) и оценить его влияние на качество обучения.  "
      ],
      "metadata": {
        "id": "yvl2my5p4VUa"
      }
    },
    {
      "cell_type": "markdown",
      "source": [
        "#Создание многослойной нейросети для классификации рукописных цифр"
      ],
      "metadata": {
        "id": "9Oo3W2yd6-Rc"
      }
    },
    {
      "cell_type": "code",
      "source": [
        "import keras\n",
        "\n",
        "from keras.datasets import mnist\n",
        "from keras.layers import Dense\n",
        "from keras.layers import Dropout\n",
        "from keras.layers import Flatten\n",
        "from keras.models import Sequential\n",
        "from keras.optimizers import adam_v2\n",
        "from keras.utils import np_utils\n",
        "from keras.utils import np_utils\n",
        "\n",
        "import matplotlib.pyplot as plt\n",
        "import numpy as np\n",
        "from PIL import Image\n",
        "\n",
        "number_of_classes = 10"
      ],
      "metadata": {
        "id": "BeimjZfQ7I4J"
      },
      "execution_count": 1,
      "outputs": []
    },
    {
      "cell_type": "code",
      "source": [
        "(X_train, y_train), (X_test, y_test) = mnist.load_data()\n",
        "\n",
        "plt.figure()\n",
        "plt.imshow(X_train[0])\n",
        "plt.colorbar()\n",
        "plt.grid(False)\n"
      ],
      "metadata": {
        "colab": {
          "base_uri": "https://localhost:8080/",
          "height": 300
        },
        "id": "sALiIsi57YF-",
        "outputId": "367d9dbc-5b71-46d4-9143-359809876588"
      },
      "execution_count": 2,
      "outputs": [
        {
          "output_type": "stream",
          "name": "stdout",
          "text": [
            "Downloading data from https://storage.googleapis.com/tensorflow/tf-keras-datasets/mnist.npz\n",
            "11490434/11490434 [==============================] - 0s 0us/step\n"
          ]
        },
        {
          "output_type": "display_data",
          "data": {
            "text/plain": [
              "<Figure size 432x288 with 2 Axes>"
            ],
            "image/png": "[encoded data removed]"
          },
          "metadata": {
            "needs_background": "light"
          }
        }
      ]
    },
    {
      "cell_type": "code",
      "source": [
        "plt.figure(figsize=(10,10))\n",
        "for i in range(25):\n",
        "    plt.subplot(5,5,i+1)\n",
        "    plt.xticks([])\n",
        "    plt.yticks([])\n",
        "    plt.grid(False)\n",
        "    plt.imshow(X_train[i], cmap=plt.cm.binary)\n",
        "    "
      ],
      "metadata": {
        "colab": {
          "base_uri": "https://localhost:8080/",
          "height": 578
        },
        "id": "yhbzswxEFrlJ",
        "outputId": "f713b813-eee8-4af4-cf38-819badbbfcda"
      },
      "execution_count": null,
      "outputs": [
        {
          "output_type": "display_data",
          "data": {
            "text/plain": [
              "<Figure size 720x720 with 25 Axes>"
            ],
            "image/png": "[encoded data removed]"
          },
          "metadata": {}
        }
      ]
    },
    {
      "cell_type": "code",
      "source": [
        "X_train = X_train.reshape(X_train.shape[0], X_train.shape[1]*X_train.shape[2]).astype('float32')\n",
        "X_test = X_test.reshape(X_test.shape[0], X_test.shape[1]*X_test.shape[2]).astype('float32')\n",
        "\n",
        "#для преобразования двумерных данных в одномерные в нейронной сети можно использовать слой Flatten(input_shape=(28,28))\n",
        "\n",
        "X_train/=255\n",
        "X_test/=255\n",
        "\n",
        "y_train = np_utils.to_categorical(y_train, number_of_classes)\n",
        "y_test = np_utils.to_categorical(y_test, number_of_classes)"
      ],
      "metadata": {
        "id": "M5ZRhOfyFWtd"
      },
      "execution_count": 3,
      "outputs": []
    },
    {
      "cell_type": "code",
      "source": [
        "X_train.shape"
      ],
      "metadata": {
        "colab": {
          "base_uri": "https://localhost:8080/"
        },
        "id": "zXzZ5y0s8s1N",
        "outputId": "dad92494-2f20-4291-ed28-62a34ec03d1f"
      },
      "execution_count": null,
      "outputs": [
        {
          "output_type": "execute_result",
          "data": {
            "text/plain": [
              "(60000, 784)"
            ]
          },
          "metadata": {},
          "execution_count": 29
        }
      ]
    },
    {
      "cell_type": "code",
      "source": [
        "model = keras.models.Sequential()\n",
        "model.add(keras.layers.Dense(512, input_dim=(X_train.shape[1]), activation='relu'))\n",
        "model.add(keras.layers.Dense(number_of_classes, activation='softmax'))\n",
        "print(model.summary())\n"
      ],
      "metadata": {
        "colab": {
          "base_uri": "https://localhost:8080/"
        },
        "id": "HrIyMAEM8KMv",
        "outputId": "d560919b-3aca-404d-d0c3-f15563402c9d"
      },
      "execution_count": null,
      "outputs": [
        {
          "output_type": "stream",
          "name": "stdout",
          "text": [
            "Model: \"sequential_3\"\n",
            "_________________________________________________________________\n",
            " Layer (type)                Output Shape              Param #   \n",
            "=================================================================\n",
            " dense_6 (Dense)             (None, 512)               401920    \n",
            "                                                                 \n",
            " dense_7 (Dense)             (None, 10)                5130      \n",
            "                                                                 \n",
            "=================================================================\n",
            "Total params: 407,050\n",
            "Trainable params: 407,050\n",
            "Non-trainable params: 0\n",
            "_________________________________________________________________\n",
            "None\n"
          ]
        }
      ]
    },
    {
      "cell_type": "code",
      "source": [
        "model.compile(loss='categorical_crossentropy', optimizer='adam', metrics=['accuracy'])\n",
        "history=model.fit(X_train, y_train, validation_data=(X_test, y_test), epochs=5, batch_size=200)\n"
      ],
      "metadata": {
        "colab": {
          "base_uri": "https://localhost:8080/"
        },
        "id": "udLP3mAM9OAy",
        "outputId": "28e85882-e78b-441a-bb4b-3fe05e85d958"
      },
      "execution_count": null,
      "outputs": [
        {
          "output_type": "stream",
          "name": "stdout",
          "text": [
            "Epoch 1/5\n",
            "300/300 [==============================] - 5s 14ms/step - loss: 0.2971 - accuracy: 0.9160 - val_loss: 0.1520 - val_accuracy: 0.9551\n",
            "Epoch 2/5\n",
            "300/300 [==============================] - 5s 17ms/step - loss: 0.1257 - accuracy: 0.9639 - val_loss: 0.1086 - val_accuracy: 0.9681\n",
            "Epoch 3/5\n",
            "300/300 [==============================] - 4s 13ms/step - loss: 0.0837 - accuracy: 0.9761 - val_loss: 0.0922 - val_accuracy: 0.9726\n",
            "Epoch 4/5\n",
            "300/300 [==============================] - 4s 13ms/step - loss: 0.0605 - accuracy: 0.9824 - val_loss: 0.0799 - val_accuracy: 0.9749\n",
            "Epoch 5/5\n",
            "300/300 [==============================] - 5s 17ms/step - loss: 0.0460 - accuracy: 0.9867 - val_loss: 0.0673 - val_accuracy: 0.9791\n"
          ]
        }
      ]
    },
    {
      "cell_type": "code",
      "source": [
        "#оценка точности\n",
        "test_loss, test_acc = model.evaluate(X_test, y_test)\n",
        "print('Test accuracy:', test_acc)\n",
        "print('Test loss:', test_loss)"
      ],
      "metadata": {
        "colab": {
          "base_uri": "https://localhost:8080/"
        },
        "id": "YpmwbEXJG8iy",
        "outputId": "97a3f934-1c88-400f-9ccd-d5e25b1426be"
      },
      "execution_count": null,
      "outputs": [
        {
          "output_type": "stream",
          "name": "stdout",
          "text": [
            "313/313 [==============================] - 1s 3ms/step - loss: 0.0673 - accuracy: 0.9791\n",
            "Test accuracy: 0.9790999889373779\n",
            "Test loss: 0.06731797754764557\n"
          ]
        }
      ]
    },
    {
      "cell_type": "code",
      "source": [
        "fig = plt.figure()\n",
        "ax1 = fig.add_subplot(1,2,1)\n",
        "ax1.plot(history.history['accuracy'])\n",
        "ax1.plot(history.history['val_accuracy'])\n",
        "ax1.set(title='model accuracy')\n",
        "ax1.set(ylabel='accuracy')\n",
        "ax1.set(xlabel='epoch')\n",
        "ax1.legend(['train', 'test'], loc='upper left')\n",
        "ax2 = fig.add_subplot(1,2,2)\n",
        "ax2.plot(history.history['loss'])\n",
        "ax2.plot(history.history['val_loss'])\n",
        "ax2.set(title='model loss')\n",
        "ax2.set(ylabel='loss')\n",
        "ax2.set(xlabel='epoch')\n",
        "ax2.legend(['train', 'test'], loc='upper left')\n",
        "plt.show()\n"
      ],
      "metadata": {
        "colab": {
          "base_uri": "https://localhost:8080/",
          "height": 295
        },
        "id": "cHh_0l2l-Rda",
        "outputId": "ef7a595b-bfdb-490b-d329-955a7471ea68"
      },
      "execution_count": null,
      "outputs": [
        {
          "output_type": "display_data",
          "data": {
            "text/plain": [
              "<Figure size 432x288 with 2 Axes>"
            ],
            "image/png": "[encoded data removed]"
          },
          "metadata": {
            "needs_background": "light"
          }
        }
      ]
    },
    {
      "cell_type": "markdown",
      "source": [
        "##Задание 2\n",
        "1. Между двух слоев нейронной сети добавить слой Dropout\n",
        "model.add(keras.layers.Dropout(0.5)), переобучить модель, оценить качество обучения. \n",
        "Объяснить полученные результаты\n",
        "2. Добавить еще один скрытый слой и проанализировать его влияние на качество обучения модели. "
      ],
      "metadata": {
        "id": "C2vAnFRqBVch"
      }
    },
    {
      "cell_type": "markdown",
      "source": [
        "#Инициализация сети\n",
        "Важным моментом при конструировании сети является начальная инициализация весов. Удачно выбранный способ инициализации весов может значительно влиять на способность модели к обучению. \n",
        "\n",
        "Существует различные подходы к начальной инициализации весов.\n",
        "\n",
        "Например, метод Завьера. Основная идея этого метода — упростить прохождение сигнала через слой во время как прямого, так и обратного распространения ошибки для линейной функции активации (этот метод также хорошо работает для сигмоидной функции, так как участок, где она ненасыщена, также имеет линейный характер). При вычислении весов этот метод опирается на вероятностное распределение.\n",
        "\n",
        "Метод инициализации Ге (He) — это вариация метода Завьера, больше подходящая функции активации ReLU, компенсирующая тот факт, что эта функция возвращает нуль для половины области определения.\n",
        "\n",
        "Выделяют также метод ортогональной инициализации. "
      ],
      "metadata": {
        "id": "31MaAifuvLSB"
      }
    },
    {
      "cell_type": "code",
      "source": [
        "model_reg = keras.models.Sequential()\n",
        "model_reg.add(keras.layers.Dense(512, input_dim=(X_train.shape[1]), activation='relu', kernel_initializer='he_uniform'))\n",
        "model_reg.add(keras.layers.Dense(number_of_classes, activation='softmax', kernel_initializer='glorot_uniform'))"
      ],
      "metadata": {
        "id": "W1jJRsMxwgCF"
      },
      "execution_count": 10,
      "outputs": []
    },
    {
      "cell_type": "markdown",
      "source": [
        "#L2-регуляризация\n",
        "Одной из основных проблем машинного обучения является проблема переобучения (overfitting), когда модель в погоне за минимизацией затрат на обучение теряет способность к обобщению.\n",
        "\n",
        "Существует простой способ держать переобучение под контролем — метод dropout.\n",
        "\n",
        "Но есть и другие регуляризаторы, которые можно применить к сети. Один из них — L_2-регуляризация (также называемая сокращением весов, англ. weight decay), которая использует более прямой подход к регуляризации, чем dropout. Обычно первопричиной переобучения является сложность модели (в смысле количества ее параметров), слишком высокая для решаемой задачи и имеющегося обучающего множества. В некотором смысле, задача регуляризатора — понизить сложность модели, сохранив количество ее параметров. \n",
        "\n",
        "L_2-регуляризация выполняется посредством наложения штрафов (penalising) на веса с наибольшими значениями, минимизируя их L_2-норму с использованием параметра λ — коэффициент регуляризации, выражающий предпочтение минимизации нормы относительно минимизации потерь на обучающем множестве.\n",
        "\n",
        "Крайне важно правильно выбрать λ. Если коэффициент слишком мал, то эффект от регуляризации будет ничтожен, если же слишком велик — модель обнулит все веса."
      ],
      "metadata": {
        "id": "NGoEjhFLZZSk"
      }
    },
    {
      "cell_type": "code",
      "source": [
        "from keras.regularizers import l2\n",
        "l2_lambda = 0.0001\n",
        "model_reg = keras.models.Sequential()\n",
        "model_reg.add(keras.layers.Dense(512, input_dim=(X_train.shape[1]), activation='relu',kernel_initializer='he_uniform', bias_regularizer=l2(l2_lambda)))\n",
        "model_reg.add(keras.layers.Dense(number_of_classes, activation='softmax', kernel_initializer='glorot_uniform'))"
      ],
      "metadata": {
        "id": "6M-2dPE1bXi_"
      },
      "execution_count": 11,
      "outputs": []
    },
    {
      "cell_type": "code",
      "source": [
        "model_reg.compile(loss='categorical_crossentropy', optimizer='adam', metrics=['accuracy'])\n",
        "history=model_reg.fit(X_train, y_train, validation_data=(X_test, y_test), epochs=5, batch_size=200)"
      ],
      "metadata": {
        "colab": {
          "base_uri": "https://localhost:8080/"
        },
        "id": "gmY_xukHdiGi",
        "outputId": "c962d257-a93c-453b-8896-d4f63511c952"
      },
      "execution_count": 12,
      "outputs": [
        {
          "output_type": "stream",
          "name": "stdout",
          "text": [
            "Epoch 1/5\n",
            "300/300 [==============================] - 4s 11ms/step - loss: 0.3025 - accuracy: 0.9155 - val_loss: 0.1496 - val_accuracy: 0.9568\n",
            "Epoch 2/5\n",
            "300/300 [==============================] - 4s 12ms/step - loss: 0.1243 - accuracy: 0.9647 - val_loss: 0.1078 - val_accuracy: 0.9690\n",
            "Epoch 3/5\n",
            "300/300 [==============================] - 3s 10ms/step - loss: 0.0813 - accuracy: 0.9771 - val_loss: 0.0843 - val_accuracy: 0.9751\n",
            "Epoch 4/5\n",
            "300/300 [==============================] - 3s 10ms/step - loss: 0.0588 - accuracy: 0.9832 - val_loss: 0.0760 - val_accuracy: 0.9778\n",
            "Epoch 5/5\n",
            "300/300 [==============================] - 3s 10ms/step - loss: 0.0447 - accuracy: 0.9870 - val_loss: 0.0735 - val_accuracy: 0.9785\n"
          ]
        }
      ]
    },
    {
      "cell_type": "markdown",
      "source": [
        "##Задание 3\n",
        "Измените коэффициент регуляризации на значение 0.5; 0.01 и 1, оцените влияние значения коэффициента на точность сети\n",
        "\n",
        "Попробуйте использовать схему регуляризации L1 (bias_regularizer=tf.keras.regularizers.l1(0.0001)), сравните точности модели при L1 и L2 регуляризации. \n",
        "\n"
      ],
      "metadata": {
        "id": "mDwCjxKDdz9z"
      }
    },
    {
      "cell_type": "markdown",
      "source": [
        "##Применение обученной нейронной сети\n",
        "Необходимо нарисовать цифру (например в Paint) или скачать из Интернета"
      ],
      "metadata": {
        "id": "SdG5civ9CCPn"
      }
    },
    {
      "cell_type": "code",
      "source": [
        "#выполняем преобразование картинки с цифрой\n",
        "from PIL import Image\n",
        "#преобразование входного изображения в формат набора MNIS\n",
        "image=Image.open(\"cifra-2.png\").resize((28,28))\n",
        "img = np.invert(image.convert('L')).ravel()\n",
        "im2arr = img.reshape(1, 28* 28).astype('float32')/255\n",
        "#plt.imshow(image, cmap=plt.cm.binary)\n",
        "#использование обученной модели\n",
        "y_pred = model.predict(im2arr)\n",
        "print(y_pred[0]) \n",
        "plt.bar(range(10), y_pred[0])\n",
        "plt.show()\n",
        "print(np.argmax(y_pred))"
      ],
      "metadata": {
        "colab": {
          "base_uri": "https://localhost:8080/",
          "height": 334
        },
        "id": "AUsHbfdeCeOq",
        "outputId": "02181c27-def0-4974-d2b3-8d80f53eb02a"
      },
      "execution_count": null,
      "outputs": [
        {
          "output_type": "stream",
          "name": "stdout",
          "text": [
            "1/1 [==============================] - 0s 86ms/step\n",
            "[6.0921124e-14 1.8184616e-15 1.4049347e-07 1.3420475e-03 6.2345102e-30\n",
            " 9.9865711e-01 2.5396324e-11 6.8611291e-07 8.1279858e-11 1.2101407e-17]\n"
          ]
        },
        {
          "output_type": "display_data",
          "data": {
            "text/plain": [
              "<Figure size 432x288 with 1 Axes>"
            ],
            "image/png": "[encoded data removed]"
          },
          "metadata": {
            "needs_background": "light"
          }
        },
        {
          "output_type": "stream",
          "name": "stdout",
          "text": [
            "5\n"
          ]
        }
      ]
    },
    {
      "cell_type": "code",
      "source": [
        "#сохранение модели\n",
        "model.save('model.h5') \n",
        "\n",
        "#загрузка модели\n",
        "#model_load=keras.models.load_model('model.h5')"
      ],
      "metadata": {
        "id": "7L_L3FpPDZrG"
      },
      "execution_count": null,
      "outputs": []
    },
    {
      "cell_type": "markdown",
      "source": [
        "##Задание 4\n",
        "Описать архитектуру многослойной нейронной сети для классификации вина (использовать датасет из scikit learn), обучить ее, проверить качество обучения, использовать для предсказания и сохранить"
      ],
      "metadata": {
        "id": "2gLGViN9D-IX"
      }
    },
    {
      "cell_type": "markdown",
      "source": [
        "#Задание 5\n",
        "Решить задачу классификации или регрессии для датасета, найденного в 1 практической работе "
      ],
      "metadata": {
        "id": "8limjw-nLvUS"
      }
    }
  ],
  "metadata": {
    "colab": {
      "provenance": [],
      "toc_visible": true
    },
    "kernelspec": {
      "display_name": "Python 3",
      "language": "python",
      "name": "python3"
    },
    "language_info": {
      "codemirror_mode": {
        "name": "ipython",
        "version": 3
      },
      "file_extension": ".py",
      "mimetype": "text/x-python",
      "name": "python",
      "nbconvert_exporter": "python",
      "pygments_lexer": "ipython3",
      "version": "3.6.5"
    }
  },
  "nbformat": 4,
  "nbformat_minor": 0
}